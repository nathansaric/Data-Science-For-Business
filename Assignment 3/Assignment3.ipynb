{
 "cells": [
  {
   "cell_type": "markdown",
   "metadata": {},
   "source": [
    "Nathan Saric - 03/23/2021"
   ]
  },
  {
   "cell_type": "markdown",
   "metadata": {},
   "source": [
    "## Instructions\n",
    "In the problems below, modify and enter Python 3 code in the code cells as required by the questions. Also, when prompted, provide your written answers in the markdown cells marked as \n",
    "\n",
    "*Your answer goes here*\n",
    "\n",
    "The code you enter is expected to run under default Anacoda package configuration for Python 3 unless stated otherwise. \n",
    "\n",
    "For this assignment, we are using \"surprise\" package. You may read instructions about installation and basic usage of this package [here](http://surpriselib.com). In particular, you may have to execute the following command in Anaconda Prompt to install the package:\n",
    "\n",
    "```\n",
    "conda install -c conda-forge scikit-surprise\n",
    "```\n",
    "\n",
    "---\n",
    "The code cell below imports several standard packages as well as surprise package required for this assignment. Also, we use the dataset Movielens-100K, which may be automatically downloaded on the first execution of this code block."
   ]
  },
  {
   "cell_type": "code",
   "execution_count": 1,
   "metadata": {},
   "outputs": [
    {
     "name": "stdout",
     "output_type": "stream",
     "text": [
      "Collecting package metadata (current_repodata.json): done\n",
      "Solving environment: done\n",
      "\n",
      "## Package Plan ##\n",
      "\n",
      "  environment location: /opt/anaconda3\n",
      "\n",
      "  added / updated specs:\n",
      "    - scikit-surprise\n",
      "\n",
      "\n",
      "The following packages will be downloaded:\n",
      "\n",
      "    package                    |            build\n",
      "    ---------------------------|-----------------\n",
      "    conda-4.12.0               |   py38h50d1736_0        1020 KB  conda-forge\n",
      "    scikit-surprise-1.1.1      |   py38hbe852b5_2         586 KB  conda-forge\n",
      "    ------------------------------------------------------------\n",
      "                                           Total:         1.6 MB\n",
      "\n",
      "The following packages will be UPDATED:\n",
      "\n",
      "  conda                                4.9.2-py38h50d1736_0 --> 4.12.0-py38h50d1736_0\n",
      "  scikit-surprise                      1.1.1-py38h174b24a_1 --> 1.1.1-py38hbe852b5_2\n",
      "\n",
      "\n",
      "\n",
      "Downloading and Extracting Packages\n",
      "conda-4.12.0         | 1020 KB   | ##################################### | 100% \n",
      "scikit-surprise-1.1. | 586 KB    | ##################################### | 100% \n",
      "Preparing transaction: done\n",
      "Verifying transaction: done\n",
      "Executing transaction: done\n",
      "\n",
      "Note: you may need to restart the kernel to use updated packages.\n"
     ]
    }
   ],
   "source": [
    "conda install -c conda-forge scikit-surprise"
   ]
  },
  {
   "cell_type": "code",
   "execution_count": 2,
   "metadata": {},
   "outputs": [],
   "source": [
    "from surprise import SVD\n",
    "from surprise import Dataset\n",
    "from surprise import prediction_algorithms\n",
    "from surprise import similarities\n",
    "from surprise.model_selection import cross_validate\n",
    "\n",
    "# Load the movielens-100k dataset (download it if needed).\n",
    "data = Dataset.load_builtin('ml-100k')\n"
   ]
  },
  {
   "cell_type": "markdown",
   "metadata": {},
   "source": [
    "## Question 1: Building Recommender Models.\n",
    "Using 10-fold cross validation, with RMSE and MAE as the measures, compare following methods in terms of accuracy in the cell below:\n",
    "1. Baseline prediction algorithm (recall baseline performance from chapter 7).\n",
    "2. SVD method.\n",
    "3. KNNBasic method.\n",
    "4. NMF method.\n",
    "\n",
    "As an illustration, the code block below shows Step 1 (Baseline algorithm using ```prediction_algorithms.BaselineOnly()```)."
   ]
  },
  {
   "cell_type": "code",
   "execution_count": 3,
   "metadata": {},
   "outputs": [
    {
     "name": "stdout",
     "output_type": "stream",
     "text": [
      "Estimating biases using als...\n",
      "Estimating biases using als...\n",
      "Estimating biases using als...\n",
      "Estimating biases using als...\n",
      "Estimating biases using als...\n",
      "Estimating biases using als...\n",
      "Estimating biases using als...\n",
      "Estimating biases using als...\n",
      "Estimating biases using als...\n",
      "Estimating biases using als...\n",
      "Evaluating RMSE, MAE of algorithm BaselineOnly on 10 split(s).\n",
      "\n",
      "                  Fold 1  Fold 2  Fold 3  Fold 4  Fold 5  Fold 6  Fold 7  Fold 8  Fold 9  Fold 10 Mean    Std     \n",
      "RMSE (testset)    0.9502  0.9433  0.9413  0.9263  0.9424  0.9395  0.9403  0.9505  0.9474  0.9416  0.9423  0.0065  \n",
      "MAE (testset)     0.7538  0.7486  0.7443  0.7330  0.7516  0.7441  0.7422  0.7511  0.7506  0.7484  0.7468  0.0058  \n",
      "Fit time          0.37    0.36    0.42    0.42    0.34    0.36    0.46    0.38    0.63    0.57    0.43    0.09    \n",
      "Test time         0.08    0.12    0.07    0.12    0.06    0.15    0.16    0.06    0.07    0.08    0.10    0.04    \n"
     ]
    },
    {
     "data": {
      "text/plain": [
       "{'test_rmse': array([0.95020632, 0.94329478, 0.94126482, 0.92626081, 0.94235032,\n",
       "        0.93948969, 0.94033554, 0.95046262, 0.94736494, 0.94158278]),\n",
       " 'test_mae': array([0.75378058, 0.74859259, 0.74427387, 0.73298137, 0.75162458,\n",
       "        0.74410966, 0.74220363, 0.75105068, 0.75056464, 0.7484088 ]),\n",
       " 'fit_time': (0.3713991641998291,\n",
       "  0.36153197288513184,\n",
       "  0.41748690605163574,\n",
       "  0.41965794563293457,\n",
       "  0.34063076972961426,\n",
       "  0.36489081382751465,\n",
       "  0.4639618396759033,\n",
       "  0.38187718391418457,\n",
       "  0.6312870979309082,\n",
       "  0.5729537010192871),\n",
       " 'test_time': (0.0779721736907959,\n",
       "  0.11649489402770996,\n",
       "  0.07465291023254395,\n",
       "  0.12473177909851074,\n",
       "  0.05835413932800293,\n",
       "  0.15288901329040527,\n",
       "  0.1595780849456787,\n",
       "  0.06287813186645508,\n",
       "  0.06850910186767578,\n",
       "  0.07675790786743164)}"
      ]
     },
     "execution_count": 3,
     "metadata": {},
     "output_type": "execute_result"
    }
   ],
   "source": [
    "algo_1 = prediction_algorithms.BaselineOnly()\n",
    "cross_validate(algo_1, data, measures=['RMSE', 'MAE'], cv=10, verbose=True)"
   ]
  },
  {
   "cell_type": "code",
   "execution_count": 4,
   "metadata": {},
   "outputs": [
    {
     "name": "stdout",
     "output_type": "stream",
     "text": [
      "Evaluating RMSE, MAE of algorithm SVD on 10 split(s).\n",
      "\n",
      "                  Fold 1  Fold 2  Fold 3  Fold 4  Fold 5  Fold 6  Fold 7  Fold 8  Fold 9  Fold 10 Mean    Std     \n",
      "RMSE (testset)    0.9279  0.9276  0.9251  0.9423  0.9334  0.9281  0.9194  0.9474  0.9155  0.9236  0.9290  0.0093  \n",
      "MAE (testset)     0.7276  0.7319  0.7313  0.7405  0.7369  0.7294  0.7240  0.7428  0.7210  0.7238  0.7309  0.0069  \n",
      "Fit time          11.25   8.02    8.13    8.90    8.24    11.07   8.69    9.48    19.68   17.81   11.13   3.98    \n",
      "Test time         0.42    0.09    0.11    0.21    0.14    0.10    0.93    0.09    0.13    0.12    0.24    0.25    \n"
     ]
    },
    {
     "data": {
      "text/plain": [
       "{'test_rmse': array([0.92791911, 0.92761293, 0.92509731, 0.94225684, 0.93343337,\n",
       "        0.92814641, 0.91941764, 0.94744929, 0.91553675, 0.92356988]),\n",
       " 'test_mae': array([0.72761721, 0.73189015, 0.73129581, 0.74047601, 0.73691387,\n",
       "        0.7294228 , 0.72399932, 0.74280635, 0.72100114, 0.7237889 ]),\n",
       " 'fit_time': (11.251611948013306,\n",
       "  8.015350103378296,\n",
       "  8.130663871765137,\n",
       "  8.90464162826538,\n",
       "  8.238759994506836,\n",
       "  11.074127912521362,\n",
       "  8.694904804229736,\n",
       "  9.48202109336853,\n",
       "  19.67595100402832,\n",
       "  17.80775809288025),\n",
       " 'test_time': (0.4184839725494385,\n",
       "  0.09018397331237793,\n",
       "  0.10647130012512207,\n",
       "  0.21164703369140625,\n",
       "  0.1438741683959961,\n",
       "  0.09784197807312012,\n",
       "  0.9333701133728027,\n",
       "  0.09397602081298828,\n",
       "  0.1329488754272461,\n",
       "  0.12483692169189453)}"
      ]
     },
     "execution_count": 4,
     "metadata": {},
     "output_type": "execute_result"
    }
   ],
   "source": [
    "algo_2 = prediction_algorithms.SVD()\n",
    "cross_validate(algo_2, data, measures=['RMSE', 'MAE'], cv=10, verbose=True)"
   ]
  },
  {
   "cell_type": "code",
   "execution_count": 5,
   "metadata": {},
   "outputs": [
    {
     "name": "stdout",
     "output_type": "stream",
     "text": [
      "Computing the msd similarity matrix...\n",
      "Done computing similarity matrix.\n",
      "Computing the msd similarity matrix...\n",
      "Done computing similarity matrix.\n",
      "Computing the msd similarity matrix...\n",
      "Done computing similarity matrix.\n",
      "Computing the msd similarity matrix...\n",
      "Done computing similarity matrix.\n",
      "Computing the msd similarity matrix...\n",
      "Done computing similarity matrix.\n",
      "Computing the msd similarity matrix...\n",
      "Done computing similarity matrix.\n",
      "Computing the msd similarity matrix...\n",
      "Done computing similarity matrix.\n",
      "Computing the msd similarity matrix...\n",
      "Done computing similarity matrix.\n",
      "Computing the msd similarity matrix...\n",
      "Done computing similarity matrix.\n",
      "Computing the msd similarity matrix...\n",
      "Done computing similarity matrix.\n",
      "Evaluating RMSE, MAE of algorithm KNNBasic on 10 split(s).\n",
      "\n",
      "                  Fold 1  Fold 2  Fold 3  Fold 4  Fold 5  Fold 6  Fold 7  Fold 8  Fold 9  Fold 10 Mean    Std     \n",
      "RMSE (testset)    0.9711  0.9825  0.9750  0.9674  0.9589  0.9768  0.9834  0.9790  0.9610  0.9678  0.9723  0.0081  \n",
      "MAE (testset)     0.7650  0.7737  0.7671  0.7662  0.7573  0.7696  0.7754  0.7746  0.7582  0.7634  0.7671  0.0061  \n",
      "Fit time          1.45    2.83    2.60    2.59    5.42    3.09    2.19    3.54    4.00    2.47    3.02    1.04    \n",
      "Test time         6.95    9.96    10.70   8.51    14.72   13.65   12.76   9.94    9.19    6.00    10.24   2.67    \n"
     ]
    },
    {
     "data": {
      "text/plain": [
       "{'test_rmse': array([0.97113685, 0.98252085, 0.97495637, 0.96736859, 0.95885008,\n",
       "        0.9767953 , 0.9833871 , 0.97895226, 0.96102159, 0.96776332]),\n",
       " 'test_mae': array([0.76499266, 0.77367205, 0.76712059, 0.76620587, 0.75727972,\n",
       "        0.76963121, 0.77544584, 0.77459095, 0.75822506, 0.76337032]),\n",
       " 'fit_time': (1.4510619640350342,\n",
       "  2.82657790184021,\n",
       "  2.5994820594787598,\n",
       "  2.5886547565460205,\n",
       "  5.424177169799805,\n",
       "  3.0929360389709473,\n",
       "  2.191696882247925,\n",
       "  3.5390517711639404,\n",
       "  4.001425266265869,\n",
       "  2.472040891647339),\n",
       " 'test_time': (6.9486002922058105,\n",
       "  9.964854955673218,\n",
       "  10.704754114151001,\n",
       "  8.51499319076538,\n",
       "  14.72179889678955,\n",
       "  13.654588222503662,\n",
       "  12.75900912284851,\n",
       "  9.938962936401367,\n",
       "  9.186966896057129,\n",
       "  5.9954869747161865)}"
      ]
     },
     "execution_count": 5,
     "metadata": {},
     "output_type": "execute_result"
    }
   ],
   "source": [
    "from surprise import KNNBasic\n",
    "algo_3 = prediction_algorithms.KNNBasic()\n",
    "cross_validate(algo_3, data, measures=['RMSE', 'MAE'], cv=10, verbose=True)"
   ]
  },
  {
   "cell_type": "code",
   "execution_count": 6,
   "metadata": {},
   "outputs": [
    {
     "name": "stdout",
     "output_type": "stream",
     "text": [
      "Evaluating RMSE, MAE of algorithm NMF on 10 split(s).\n",
      "\n",
      "                  Fold 1  Fold 2  Fold 3  Fold 4  Fold 5  Fold 6  Fold 7  Fold 8  Fold 9  Fold 10 Mean    Std     \n",
      "RMSE (testset)    0.9662  0.9560  0.9507  0.9596  0.9621  0.9588  0.9513  0.9531  0.9609  0.9620  0.9581  0.0049  \n",
      "MAE (testset)     0.7641  0.7478  0.7462  0.7553  0.7568  0.7559  0.7469  0.7506  0.7556  0.7548  0.7534  0.0053  \n",
      "Fit time          17.60   16.47   16.26   25.61   10.08   9.78    11.51   8.33    9.02    8.65    13.33   5.29    \n",
      "Test time         0.47    0.38    0.12    0.23    0.49    0.08    0.08    0.13    0.24    0.08    0.23    0.15    \n"
     ]
    },
    {
     "data": {
      "text/plain": [
       "{'test_rmse': array([0.96622378, 0.95595382, 0.95070674, 0.95956074, 0.96211473,\n",
       "        0.95878172, 0.95127047, 0.95308904, 0.96092533, 0.96204449]),\n",
       " 'test_mae': array([0.76413924, 0.74776847, 0.74615098, 0.75529473, 0.756841  ,\n",
       "        0.75592953, 0.7468728 , 0.75064394, 0.75562619, 0.75480492]),\n",
       " 'fit_time': (17.59695792198181,\n",
       "  16.467553853988647,\n",
       "  16.261203050613403,\n",
       "  25.60830593109131,\n",
       "  10.07781720161438,\n",
       "  9.77873706817627,\n",
       "  11.50796127319336,\n",
       "  8.326491832733154,\n",
       "  9.021168947219849,\n",
       "  8.64962887763977),\n",
       " 'test_time': (0.4729018211364746,\n",
       "  0.37908077239990234,\n",
       "  0.11929798126220703,\n",
       "  0.2318401336669922,\n",
       "  0.48979902267456055,\n",
       "  0.08257579803466797,\n",
       "  0.07531285285949707,\n",
       "  0.13164997100830078,\n",
       "  0.23859286308288574,\n",
       "  0.08246016502380371)}"
      ]
     },
     "execution_count": 6,
     "metadata": {},
     "output_type": "execute_result"
    }
   ],
   "source": [
    "from surprise import NMF\n",
    "algo_4 = prediction_algorithms.NMF()\n",
    "cross_validate(algo_4, data, measures=['RMSE', 'MAE'], cv=10, verbose=True)"
   ]
  },
  {
   "cell_type": "markdown",
   "metadata": {},
   "source": [
    "## Question 2: Dealing with the Results\n",
    "Based on your results in question 1, discuss the meaning of accuracy metrics you are using, and your findings regarding the accuracy of the algorithms used above."
   ]
  },
  {
   "cell_type": "markdown",
   "metadata": {},
   "source": [
    "RMSE is the distance between the vector of predicted values and the vector of observed values. The optimal value would be 0, meaning the model fits perfectly. Therefore, smaller values indicate a higher accuracy than other models. MAE looks at the average magnitude of errors in a set of folds and measures the difference between the predicted values and the observations. <br>\n",
    "\n",
    "SVD is the most accurate because it has the lowest mean RMSE and MAE values, with one of the lowest standard deviations. This means that the accuracy isn’t changing a lot between folds and is consistent. "
   ]
  },
  {
   "cell_type": "markdown",
   "metadata": {},
   "source": [
    "## Question 3 (a): Similarity\n",
    "In this question, we want to observe the effect of similarity measures on our recommender model. For that, do the following:\n",
    "1. Build a KNNBasic recommender model using 'pearson_baseline' similarity measure.\n",
    "2. Build a KNNBasic recommender model using 'cosine' similarity measure.\n",
    "3. In each case above, try both 'user' to 'movie' similarity basis.\n",
    "4. Compare your results using two accuracy measure of your choice.\n",
    "\n",
    "As an illustration, the code block currently shows settings for 'pearson_baseline' similarity measure and 'user' basis."
   ]
  },
  {
   "cell_type": "code",
   "execution_count": 7,
   "metadata": {
    "scrolled": true
   },
   "outputs": [
    {
     "name": "stdout",
     "output_type": "stream",
     "text": [
      "Estimating biases using als...\n",
      "Computing the pearson_baseline similarity matrix...\n",
      "Done computing similarity matrix.\n",
      "Estimating biases using als...\n",
      "Computing the pearson_baseline similarity matrix...\n",
      "Done computing similarity matrix.\n",
      "Estimating biases using als...\n",
      "Computing the pearson_baseline similarity matrix...\n",
      "Done computing similarity matrix.\n",
      "Estimating biases using als...\n",
      "Computing the pearson_baseline similarity matrix...\n",
      "Done computing similarity matrix.\n",
      "Estimating biases using als...\n",
      "Computing the pearson_baseline similarity matrix...\n",
      "Done computing similarity matrix.\n",
      "Evaluating RMSE, MAE of algorithm KNNBasic on 5 split(s).\n",
      "\n",
      "                  Fold 1  Fold 2  Fold 3  Fold 4  Fold 5  Mean    Std     \n",
      "RMSE (testset)    1.0014  1.0025  0.9978  0.9954  1.0008  0.9996  0.0026  \n",
      "MAE (testset)     0.7922  0.7931  0.7900  0.7886  0.7906  0.7909  0.0016  \n",
      "Fit time          1.64    2.02    4.48    3.10    3.50    2.95    1.03    \n",
      "Test time         7.51    4.73    14.41   11.49   6.48    8.92    3.53    \n"
     ]
    },
    {
     "data": {
      "text/plain": [
       "{'test_rmse': array([1.00135767, 1.00254165, 0.99778685, 0.99537824, 1.00075564]),\n",
       " 'test_mae': array([0.79215254, 0.79314128, 0.79000326, 0.78858051, 0.7906206 ]),\n",
       " 'fit_time': (1.6375019550323486,\n",
       "  2.0177197456359863,\n",
       "  4.481162071228027,\n",
       "  3.0959761142730713,\n",
       "  3.497831106185913),\n",
       " 'test_time': (7.514836072921753,\n",
       "  4.733064889907837,\n",
       "  14.40707278251648,\n",
       "  11.48557996749878,\n",
       "  6.478872776031494)}"
      ]
     },
     "execution_count": 7,
     "metadata": {},
     "output_type": "execute_result"
    }
   ],
   "source": [
    "sim_options = {'name': 'pearson_baseline', 'user_based': True}\n",
    "algo1 = prediction_algorithms.KNNBasic(sim_options = sim_options)\n",
    "cross_validate(algo1, data, measures=['RMSE', 'MAE'], cv=5, verbose=True)"
   ]
  },
  {
   "cell_type": "code",
   "execution_count": 8,
   "metadata": {},
   "outputs": [
    {
     "name": "stdout",
     "output_type": "stream",
     "text": [
      "Estimating biases using als...\n",
      "Computing the pearson_baseline similarity matrix...\n",
      "Done computing similarity matrix.\n",
      "Estimating biases using als...\n",
      "Computing the pearson_baseline similarity matrix...\n",
      "Done computing similarity matrix.\n",
      "Estimating biases using als...\n",
      "Computing the pearson_baseline similarity matrix...\n",
      "Done computing similarity matrix.\n",
      "Estimating biases using als...\n",
      "Computing the pearson_baseline similarity matrix...\n",
      "Done computing similarity matrix.\n",
      "Estimating biases using als...\n",
      "Computing the pearson_baseline similarity matrix...\n",
      "Done computing similarity matrix.\n",
      "Evaluating RMSE, MAE of algorithm KNNBasic on 5 split(s).\n",
      "\n",
      "                  Fold 1  Fold 2  Fold 3  Fold 4  Fold 5  Mean    Std     \n",
      "RMSE (testset)    0.9853  0.9956  0.9946  0.9888  0.9933  0.9915  0.0039  \n",
      "MAE (testset)     0.7755  0.7850  0.7807  0.7803  0.7814  0.7806  0.0030  \n",
      "Fit time          3.79    3.28    3.26    2.06    2.04    2.89    0.71    \n",
      "Test time         7.48    8.39    4.97    4.47    4.37    5.94    1.67    \n"
     ]
    },
    {
     "data": {
      "text/plain": [
       "{'test_rmse': array([0.98527414, 0.99555211, 0.99460151, 0.98880682, 0.99332385]),\n",
       " 'test_mae': array([0.77545609, 0.78499019, 0.78065859, 0.7802804 , 0.78139674]),\n",
       " 'fit_time': (3.7921907901763916,\n",
       "  3.2759838104248047,\n",
       "  3.2648158073425293,\n",
       "  2.0585098266601562,\n",
       "  2.0384881496429443),\n",
       " 'test_time': (7.475568056106567,\n",
       "  8.394956111907959,\n",
       "  4.9737420082092285,\n",
       "  4.472985029220581,\n",
       "  4.371348142623901)}"
      ]
     },
     "execution_count": 8,
     "metadata": {},
     "output_type": "execute_result"
    }
   ],
   "source": [
    "sim_options = {'name': 'pearson_baseline', 'user_based': False}\n",
    "algo2 = prediction_algorithms.KNNBasic(sim_options = sim_options)\n",
    "cross_validate(algo2, data, measures=['RMSE', 'MAE'], cv=5, verbose=True)"
   ]
  },
  {
   "cell_type": "code",
   "execution_count": 9,
   "metadata": {},
   "outputs": [
    {
     "name": "stdout",
     "output_type": "stream",
     "text": [
      "Computing the cosine similarity matrix...\n",
      "Done computing similarity matrix.\n",
      "Computing the cosine similarity matrix...\n",
      "Done computing similarity matrix.\n",
      "Computing the cosine similarity matrix...\n",
      "Done computing similarity matrix.\n",
      "Computing the cosine similarity matrix...\n",
      "Done computing similarity matrix.\n",
      "Computing the cosine similarity matrix...\n",
      "Done computing similarity matrix.\n",
      "Evaluating RMSE, MAE of algorithm KNNBasic on 5 split(s).\n",
      "\n",
      "                  Fold 1  Fold 2  Fold 3  Fold 4  Fold 5  Mean    Std     \n",
      "RMSE (testset)    1.0075  1.0200  1.0188  1.0201  1.0173  1.0167  0.0047  \n",
      "MAE (testset)     0.7972  0.8047  0.8059  0.8055  0.8064  0.8039  0.0034  \n",
      "Fit time          1.14    1.62    1.35    1.24    1.53    1.38    0.18    \n",
      "Test time         4.75    6.97    6.41    5.25    4.55    5.59    0.95    \n"
     ]
    },
    {
     "data": {
      "text/plain": [
       "{'test_rmse': array([1.00747026, 1.01995655, 1.01884428, 1.02008205, 1.0172652 ]),\n",
       " 'test_mae': array([0.79724416, 0.80466638, 0.80587403, 0.80550921, 0.80642006]),\n",
       " 'fit_time': (1.1430339813232422,\n",
       "  1.6151928901672363,\n",
       "  1.3519079685211182,\n",
       "  1.238178014755249,\n",
       "  1.5272362232208252),\n",
       " 'test_time': (4.749266862869263,\n",
       "  6.97019100189209,\n",
       "  6.414367914199829,\n",
       "  5.2456629276275635,\n",
       "  4.552155256271362)}"
      ]
     },
     "execution_count": 9,
     "metadata": {},
     "output_type": "execute_result"
    }
   ],
   "source": [
    "sim_options = {'name': 'cosine', 'user_based': True}\n",
    "algo3 = prediction_algorithms.KNNBasic(sim_options = sim_options)\n",
    "cross_validate(algo3, data, measures=['RMSE', 'MAE'], cv=5, verbose=True)"
   ]
  },
  {
   "cell_type": "code",
   "execution_count": 10,
   "metadata": {},
   "outputs": [
    {
     "name": "stdout",
     "output_type": "stream",
     "text": [
      "Computing the cosine similarity matrix...\n",
      "Done computing similarity matrix.\n",
      "Computing the cosine similarity matrix...\n",
      "Done computing similarity matrix.\n",
      "Computing the cosine similarity matrix...\n",
      "Done computing similarity matrix.\n",
      "Computing the cosine similarity matrix...\n",
      "Done computing similarity matrix.\n",
      "Computing the cosine similarity matrix...\n",
      "Done computing similarity matrix.\n",
      "Evaluating RMSE, MAE of algorithm KNNBasic on 5 split(s).\n",
      "\n",
      "                  Fold 1  Fold 2  Fold 3  Fold 4  Fold 5  Mean    Std     \n",
      "RMSE (testset)    1.0300  1.0233  1.0170  1.0295  1.0318  1.0263  0.0055  \n",
      "MAE (testset)     0.8153  0.8102  0.8042  0.8126  0.8145  0.8113  0.0040  \n",
      "Fit time          2.08    2.76    2.06    2.03    2.08    2.20    0.28    \n",
      "Test time         5.78    5.18    4.74    4.88    5.39    5.19    0.37    \n"
     ]
    },
    {
     "data": {
      "text/plain": [
       "{'test_rmse': array([1.03002201, 1.02325093, 1.01696286, 1.02946465, 1.03177225]),\n",
       " 'test_mae': array([0.81525684, 0.81016698, 0.80418373, 0.81261396, 0.8144575 ]),\n",
       " 'fit_time': (2.084213972091675,\n",
       "  2.756929636001587,\n",
       "  2.060572862625122,\n",
       "  2.026287794113159,\n",
       "  2.0801339149475098),\n",
       " 'test_time': (5.7814249992370605,\n",
       "  5.1778199672698975,\n",
       "  4.742237091064453,\n",
       "  4.880739212036133,\n",
       "  5.3919548988342285)}"
      ]
     },
     "execution_count": 10,
     "metadata": {},
     "output_type": "execute_result"
    }
   ],
   "source": [
    "sim_options = {'name': 'cosine', 'user_based': False}\n",
    "algo4 = prediction_algorithms.KNNBasic(sim_options = sim_options)\n",
    "cross_validate(algo4, data, measures=['RMSE', 'MAE'], cv=5, verbose=True)"
   ]
  },
  {
   "cell_type": "markdown",
   "metadata": {},
   "source": [
    "## Question 3 (b)\n",
    "Discuss the results of question 3 (a) in the cell below."
   ]
  },
  {
   "cell_type": "markdown",
   "metadata": {},
   "source": [
    "“Pearson_baseline’s” RMSE and MAE in the movie similarity basis was lower and therefore more accurate than the user similarity basis. However, the RMSE and MAE in “cosine” was lower in the user similarity basis than the movie similarity basis. Overall, the lowest RMSE and MAE values belonged to the “pearson_baseline” similarity measure using the movie similarity basis. Compared to the standard deviations of other similarity measures, these values were not the highest, nor the lowest. Therefore, this had the most accurate measure. This is due to the “pearson_baseline” similarity having a shrinkage parameter that aids in avoiding overfitting."
   ]
  },
  {
   "cell_type": "markdown",
   "metadata": {},
   "source": [
    "## Question 3 (c)\n",
    "For each of the 'item' based recommenders in 3 (a), get the top 20 nearest neighbors of the 'Lion King, The (1994)' movie. Reuse part of the code from http://surprise.readthedocs.io/en/stable/FAQ.html#how-to-get-the-k-nearest-neighbors-of-a-user-or-item"
   ]
  },
  {
   "cell_type": "code",
   "execution_count": 11,
   "metadata": {},
   "outputs": [
    {
     "name": "stdout",
     "output_type": "stream",
     "text": [
      "\n",
      "The 20 nearest neighbors of Lion King in the pearson_baseline recommender are:\n",
      "Beauty and the Beast (1991)\n",
      "Aladdin (1992)\n",
      "Toy Story (1995)\n",
      "Pinocchio (1940)\n",
      "Fox and the Hound, The (1981)\n",
      "American President, The (1995)\n",
      "Jungle Book, The (1994)\n",
      "Forrest Gump (1994)\n",
      "Mrs. Doubtfire (1993)\n",
      "Top Gun (1986)\n",
      "Jumanji (1995)\n",
      "Cinderella (1950)\n",
      "Robin Hood: Prince of Thieves (1991)\n",
      "My Fair Lady (1964)\n",
      "Firm, The (1993)\n",
      "Pink Floyd - The Wall (1982)\n",
      "Sword in the Stone, The (1963)\n",
      "Man Who Would Be King, The (1975)\n",
      "Dumbo (1941)\n",
      "Star Wars (1977)\n"
     ]
    }
   ],
   "source": [
    "import io  \n",
    "\n",
    "from surprise import KNNBaseline\n",
    "from surprise import Dataset\n",
    "from surprise import get_dataset_dir\n",
    "\n",
    "def read_item_names():\n",
    "\n",
    "    file_name = get_dataset_dir() + '/ml-100k/ml-100k/u.item'\n",
    "    rid_to_name = {}\n",
    "    name_to_rid = {}\n",
    "    with io.open(file_name, 'r', encoding='ISO-8859-1') as f:\n",
    "        for line in f:\n",
    "            line = line.split('|')\n",
    "            rid_to_name[line[0]] = line[1]\n",
    "            name_to_rid[line[1]] = line[0]\n",
    "\n",
    "    return rid_to_name, name_to_rid\n",
    "\n",
    "rid_to_name, name_to_rid = read_item_names()\n",
    "\n",
    "lion_king_raw_id = name_to_rid['Lion King, The (1994)']\n",
    "lion_king_inner_id = algo2.trainset.to_inner_iid(lion_king_raw_id)\n",
    "\n",
    "lion_king_neighbors = algo2.get_neighbors(lion_king_inner_id, k=20)\n",
    "\n",
    "lion_king_neighbors = (algo2.trainset.to_raw_iid(inner_id)\n",
    "                       for inner_id in lion_king_neighbors)\n",
    "lion_king_neighbors = (rid_to_name[rid]\n",
    "                       for rid in lion_king_neighbors)\n",
    "print()\n",
    "print('The 20 nearest neighbors of Lion King in the pearson_baseline recommender are:')\n",
    "for movie in lion_king_neighbors:\n",
    "    print(movie)"
   ]
  },
  {
   "cell_type": "code",
   "execution_count": 12,
   "metadata": {},
   "outputs": [
    {
     "name": "stdout",
     "output_type": "stream",
     "text": [
      "\n",
      "The 20 nearest neighbors of Lion King in the cosine recommender are:\n",
      "Gang Related (1997)\n",
      "Mondo (1996)\n",
      "Switchback (1997)\n",
      "Afterglow (1997)\n",
      "Secret Adventures of Tom Thumb, The (1993)\n",
      "Pushing Hands (1992)\n",
      "Thieves (Voleurs, Les) (1996)\n",
      "Colonel Chabert, Le (1994)\n",
      "Phat Beach (1996)\n",
      "Carried Away (1996)\n",
      "Contempt (Mépris, Le) (1963)\n",
      "Stalker (1979)\n",
      "House of Yes, The (1997)\n",
      "Hostile Intentions (1994)\n",
      "Bhaji on the Beach (1993)\n",
      "Hate (Haine, La) (1995)\n",
      "Maximum Risk (1996)\n",
      "Star Maker, The (Uomo delle stelle, L') (1995)\n",
      "Dream Man (1995)\n",
      "Hunted, The (1995)\n"
     ]
    }
   ],
   "source": [
    "lion_king_raw_id = name_to_rid['Lion King, The (1994)']\n",
    "lion_king_inner_id = algo4.trainset.to_inner_iid(lion_king_raw_id)\n",
    "\n",
    "lion_king_neighbors = algo4.get_neighbors(lion_king_inner_id, k=20)\n",
    "\n",
    "lion_king_neighbors = (algo4.trainset.to_raw_iid(inner_id)\n",
    "                       for inner_id in lion_king_neighbors)\n",
    "lion_king_neighbors = (rid_to_name[rid]\n",
    "                       for rid in lion_king_neighbors)\n",
    "print()\n",
    "print('The 20 nearest neighbors of Lion King in the cosine recommender are:')\n",
    "for movie in lion_king_neighbors:\n",
    "    print(movie)"
   ]
  }
 ],
 "metadata": {
  "interpreter": {
   "hash": "40d3a090f54c6569ab1632332b64b2c03c39dcf918b08424e98f38b5ae0af88f"
  },
  "kernelspec": {
   "display_name": "Python 3.8.5 ('base')",
   "language": "python",
   "name": "python3"
  },
  "language_info": {
   "codemirror_mode": {
    "name": "ipython",
    "version": 3
   },
   "file_extension": ".py",
   "mimetype": "text/x-python",
   "name": "python",
   "nbconvert_exporter": "python",
   "pygments_lexer": "ipython3",
   "version": "3.8.5"
  }
 },
 "nbformat": 4,
 "nbformat_minor": 2
}
