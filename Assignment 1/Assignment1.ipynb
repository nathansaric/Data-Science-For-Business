{ 
 "cells": [
  {
   "cell_type": "markdown",
   "metadata": {},
   "source": [
    "Nathan Saric - 02/23/2021"
   ]
  },
  {
   "cell_type": "markdown",
   "metadata": {},
   "source": [
    "## Instructions\n",
    "In the problems below, modify and enter Python 3 code in the code cells as required by the questions. Also, when prompted, provide your written answers in the markdown cells marked as \n",
    "\n",
    "*Your answer goes here*\n",
    "\n",
    "The code you enter is expected to run under default Anacoda package configuration for Python 3 unless stated otherwise. \n",
    "\n",
    "---\n",
    "The code cell below imports several standard packages used in the assignment and performs setup for plots."
   ]
  },
  {
   "cell_type": "code",
   "execution_count": 1,
   "metadata": {},
   "outputs": [],
   "source": [
    "# We use numpy for random number generation and data handling\n",
    "import numpy as np\n",
    "\n",
    "# We matplotlib package for plotting \n",
    "import matplotlib\n",
    "import matplotlib.pyplot as plt\n",
    "%matplotlib inline\n",
    "# Parameters for figures\n",
    "plt.rcParams['axes.labelsize'] = 14\n",
    "plt.rcParams['xtick.labelsize'] = 12\n",
    "plt.rcParams['ytick.labelsize'] = 12\n",
    "\n",
    "# We use functionality of Scikit-Learn for fitting linear models\n",
    "from sklearn.linear_model import LinearRegression\n",
    "from sklearn.linear_model import LassoCV\n",
    "from sklearn.linear_model import RidgeCV\n",
    "from sklearn.preprocessing import PolynomialFeatures\n",
    "from sklearn.preprocessing import StandardScaler\n",
    "from sklearn.pipeline import Pipeline\n",
    "from sklearn.metrics import mean_squared_error\n",
    "from sklearn.model_selection import train_test_split\n",
    "\n",
    "# A function for plotting RMSE fit for training and testing set over varying training set size\n",
    "def plot_RMSE_fit(model, X, y):\n",
    "    X_train, X_val, y_train, y_val = train_test_split(X, y, test_size=0.2, random_state=10)\n",
    "    train_errors, val_errors = [], []\n",
    "    for m in range(1, len(X_train)):\n",
    "        model.fit(X_train[:m], y_train[:m])\n",
    "        y_train_predict = model.predict(X_train[:m])\n",
    "        y_val_predict = model.predict(X_val)\n",
    "        train_errors.append(mean_squared_error(y_train_predict, y_train[:m]))\n",
    "        val_errors.append(mean_squared_error(y_val_predict, y_val))\n",
    "\n",
    "    plt.plot(np.sqrt(train_errors), \"r-+\", linewidth=2, label=\"train\")\n",
    "    plt.plot(np.sqrt(val_errors), \"b-\", linewidth=3, label=\"test\")\n",
    "    plt.legend(loc=\"upper right\", fontsize=14)   \n",
    "    plt.xlabel(\"Training set size\", fontsize=14) \n",
    "    plt.ylabel(\"RMSE\", fontsize=14)              "
   ]
  },
  {
   "cell_type": "markdown",
   "metadata": {},
   "source": [
    "## Problem 1: Model Complexity and Regularization\n",
    "In this problem, we explore a tradeoff between model complexity and its ability to generalize to new data. We use artificially generated data to verify that the tested modelling approaches perform correctly.\n",
    "\n",
    "The code cell below produces the dataset, fits a straight line model to it and prints the coefficients. **Uncomment the appropriate lines to see the result.**"
   ]
  },
  {
   "cell_type": "code",
   "execution_count": 2,
   "metadata": {},
   "outputs": [
    {
     "name": "stdout",
     "output_type": "stream",
     "text": [
      "[9.7815954] [[-0.31493234]]\n"
     ]
    }
   ],
   "source": [
    "# The seed controls the dataset that is going to be produced\n",
    "np.random.seed(11)\n",
    "# Number of rows\n",
    "m = 100\n",
    "# X variable (feature)\n",
    "X = 20 * np.random.rand(m, 1) - 10\n",
    "# Label is a numerical value linked to X by a polynomial expression subject to a normal random error\n",
    "y = 0.013 * X**3 - 1.1 * X + 10 + 3 * np.random.randn(m, 1)\n",
    "\n",
    "# Create a Linear Regression model object\n",
    "lin_reg = LinearRegression()\n",
    "# Fit the model\n",
    "lin_reg.fit(X, y)\n",
    "# Print the coefficients\n",
    "print(lin_reg.intercept_, lin_reg.coef_)"
   ]
  },
  {
   "cell_type": "markdown",
   "metadata": {},
   "source": [
    "### Question (a)\n",
    "**What are the estimated coefficient values? Has the straight line model recovered the coefficient values assumed when we generated the data? Should we expect the straight line model to be able to recover them? Why or why not?** \n",
    "\n",
    "Enter your answer in the markdown cell below:\n",
    "\n",
    "---"
   ]
  },
  {
   "cell_type": "markdown",
   "metadata": {},
   "source": [
    "The estimated coefficient value is -0.31493234. The straight line model did not recover the coefficient values assumed when we generated the data because the linear equation shows 2 features, therefore, the model should have returned 2 coefficients. Since it only returned 1, it is not correct. This is expected as the straight line model would only recover 1 coefficient instead of multiple coefficients, even though both are linear models.  "
   ]
  },
  {
   "cell_type": "markdown",
   "metadata": {},
   "source": [
    "---\n",
    "\n",
    "The code block below provides a visual examination of the original data and the model on the new data. Uncomment appropriate lines to see the result."
   ]
  },
  {
   "cell_type": "code",
   "execution_count": 3,
   "metadata": {},
   "outputs": [
    {
     "data": {
      "text/plain": [
       "(-10.0, 10.0, -5.0, 25.0)"
      ]
     },
     "execution_count": 3,
     "metadata": {},
     "output_type": "execute_result"
    },
    {
     "data": {
      "image/png": "[encoded data removed]",
      "text/plain": [
       "<Figure size 432x288 with 1 Axes>"
      ]
     },
     "metadata": {
      "needs_background": "light"
     },
     "output_type": "display_data"
    }
   ],
   "source": [
    "# Construct the x new values to evaluate predicitons on\n",
    "X_new = np.linspace(-10, 10, 100).reshape(100, 1)\n",
    "\n",
    "# Evaluate model predictions on new data\n",
    "y_new = lin_reg.predict(X_new)\n",
    "\n",
    "# Plot the original data\n",
    "plt.plot(X, y, \"k.\")\n",
    "# Plot predicted values\n",
    "plt.plot(X_new, y_new, \"r-\", linewidth=2, label=\"Predictions\")\n",
    "# Add axis labels \n",
    "plt.xlabel(\"$x$\", fontsize=18)\n",
    "plt.ylabel(\"$y$\", rotation=0, fontsize=18)\n",
    "plt.axis([-10, 10, -5, 25])\n"
   ]
  },
  {
   "cell_type": "markdown",
   "metadata": {},
   "source": [
    "### Question (b)\n",
    "** What ideas does the plot above provide for improving the model? Explain. **\n",
    "\n",
    "Enter your answer in the markdown cell below:\n",
    "\n",
    "---"
   ]
  },
  {
   "cell_type": "markdown",
   "metadata": {},
   "source": [
    "The model is underfitted to the data as the line does not capture the trends in the data points accurately. There are large gaps between the data points and the line indicates that there is a higher error value. Using a different model with a higher degree would allow for a better line of fit that would minimize error. \n"
   ]
  },
  {
   "cell_type": "markdown",
   "metadata": {},
   "source": [
    "---\n",
    "\n",
    "The code block below uses linear regression with polynomial features up to a given degree to construct more complex models of the form $y=a_0+a_1 x + a_2 x^2 + \\ldots +a_p x^p$ where $p$ is the degree in the polynomial and $a_0, a_1, \\ldots, a_p$ are model parameters (coefficients of the polynomial). The constant term $a_0$ will have to be accessed separately (as `intercept_` attribute of the model object) from the rest of the coefficients (that are accessed as `coef_` attribute of the model object). Uncomments the appropriate lines to see the result."
   ]
  },
  {
   "cell_type": "code",
   "execution_count": 4,
   "metadata": {},
   "outputs": [
    {
     "name": "stdout",
     "output_type": "stream",
     "text": [
      "[10.51724184] [[-0.33270294 -0.02288147]]\n",
      "[9.91505466] [[-9.81831122e-01  4.51026485e-02  8.45096147e-03 -6.52894840e-04\n",
      "   3.52689692e-05]]\n",
      "[10.03859895] [[-1.70138395e+00  5.08004782e-02  1.27786128e-01 -5.61917179e-03\n",
      "  -4.95199058e-03  2.09514385e-04  7.52048370e-05 -2.84773183e-06\n",
      "  -3.72474736e-07  1.23463872e-08]]\n"
     ]
    },
    {
     "data": {
      "text/plain": [
       "(-10.0, 10.0, -5.0, 25.0)"
      ]
     },
     "execution_count": 4,
     "metadata": {},
     "output_type": "execute_result"
    },
    {
     "data": {
      "image/png": "[encoded data removed]",
      "text/plain": [
       "<Figure size 432x288 with 1 Axes>"
      ]
     },
     "metadata": {
      "needs_background": "light"
     },
     "output_type": "display_data"
    }
   ],
   "source": [
    "# The loop below iterates over the highest degree used in the model and the corresponding line style in the plot \n",
    "for style, degree in ((\"b-\", 2), (\"g-\", 5), (\"r-\", 10)):\n",
    "    # Construct modelling pipeline\n",
    "    poly_features = PolynomialFeatures(degree=degree, include_bias=False)\n",
    "    lin_reg = LinearRegression()\n",
    "    polynomial_regression = Pipeline([\n",
    "            (\"poly_features\", poly_features),\n",
    "            (\"lin_reg\", lin_reg),\n",
    "        ])\n",
    "    # Fit the model using the constructed pipeline\n",
    "    polynomial_regression.fit(X, y)\n",
    "    # Print the intercept and model coefficients\n",
    "    print(polynomial_regression.named_steps[\"lin_reg\"].intercept_, polynomial_regression.named_steps[\"lin_reg\"].coef_)\n",
    "    # Get predictions on new data\n",
    "    y_new_poly = polynomial_regression.predict(X_new)\n",
    "    # Plot the predicitons\n",
    "    plt.plot(X_new, y_new_poly, style, label=str(degree), linewidth=2)\n",
    "\n",
    "# Plot the original data\n",
    "plt.plot(X, y, \"k.\", linewidth=3)\n",
    "plt.legend(loc=\"upper left\")\n",
    "plt.xlabel(\"$x$\", fontsize=18)\n",
    "plt.ylabel(\"$y$\", rotation=0, fontsize=18)\n",
    "plt.axis([-10, 10, -5, 25])\n"
   ]
  },
  {
   "cell_type": "markdown",
   "metadata": {},
   "source": [
    "### Question (c)\n",
    "** Based on the plots, comment on performance of each model. Do some of the models manifest under-fitting or over-fitting? Can this be expected given what you know about the data and each model? Explain. **\n",
    "\n",
    "Enter your answer in the markdown cell below:\n",
    "\n",
    "---"
   ]
  },
  {
   "cell_type": "markdown",
   "metadata": {},
   "source": [
    "**2 degree** - Underfitting <br>\n",
    "This is expected as it is a smaller degree which means there is not a lot of curve <br>\n",
    "\n",
    "**5 degree** - Fits well <br>\n",
    "This is expected as there is some curve but would not completely follow the data <br>\n",
    "\n",
    "**10 degree** - Over-fitting <br>\n",
    "This is expected as it is a very large degree which means there are a lot of curves and this would lead to overfitting \n",
    "\n"
   ]
  },
  {
   "cell_type": "markdown",
   "metadata": {},
   "source": [
    "---\n",
    "### Question (d)\n",
    "**In the code block below, implement the model with the highest degree that, in your opinion would result in the best fit. Print the coeffificients of this model and plot it together with the original training data.**"
   ]
  },
  {
   "cell_type": "code",
   "execution_count": 5,
   "metadata": {},
   "outputs": [
    {
     "name": "stdout",
     "output_type": "stream",
     "text": [
      "[9.91505466] [[-9.81831122e-01  4.51026485e-02  8.45096147e-03 -6.52894840e-04\n",
      "   3.52689692e-05]]\n"
     ]
    },
    {
     "data": {
      "text/plain": [
       "(-10.0, 10.0, -5.0, 25.0)"
      ]
     },
     "execution_count": 5,
     "metadata": {},
     "output_type": "execute_result"
    },
    {
     "data": {
      "image/png": "[encoded data removed]",
      "text/plain": [
       "<Figure size 432x288 with 1 Axes>"
      ]
     },
     "metadata": {
      "needs_background": "light"
     },
     "output_type": "display_data"
    }
   ],
   "source": [
    "# Construct modelling pipeline using degree 5\n",
    "poly_features = PolynomialFeatures(degree=5, include_bias=False)\n",
    "lin_reg = LinearRegression()\n",
    "polynomial_regression = Pipeline([\n",
    "        (\"poly_features\", poly_features),\n",
    "        (\"lin_reg\", lin_reg),\n",
    "    ])\n",
    "# Fit the model using the constructed pipeline\n",
    "polynomial_regression.fit(X, y)\n",
    "# Print the intercept and model coefficients\n",
    "print(polynomial_regression.named_steps[\"lin_reg\"].intercept_, polynomial_regression.named_steps[\"lin_reg\"].coef_)\n",
    "# Get predictions on new data\n",
    "y_new_poly = polynomial_regression.predict(X_new)\n",
    "# Plot the predicitons\n",
    "plt.plot(X_new, y_new_poly, style, label=str(5), linewidth=2)\n",
    "\n",
    "# Plot the original data\n",
    "plt.plot(X, y, \"k.\", linewidth=3)\n",
    "plt.legend(loc=\"upper left\")\n",
    "plt.xlabel(\"$x$\", fontsize=18)\n",
    "plt.ylabel(\"$y$\", rotation=0, fontsize=18)\n",
    "plt.axis([-10, 10, -5, 25])"
   ]
  },
  {
   "cell_type": "markdown",
   "metadata": {},
   "source": [
    "In the code blocks below we use function plot_RMSE_fit (defined above) to split the data into training and testing sets, train a model on the training set of variable size and plot the error measure (root mean-square error or RMSE) against the training set size. \n",
    "\n",
    "We first do it for a straight-line model:"
   ]
  },
  {
   "cell_type": "code",
   "execution_count": 6,
   "metadata": {},
   "outputs": [
    {
     "data": {
      "text/plain": [
       "(0.0, 80.0, 0.0, 6.0)"
      ]
     },
     "execution_count": 6,
     "metadata": {},
     "output_type": "execute_result"
    },
    {
     "data": {
      "image/png": "[encoded data removed]",
      "text/plain": [
       "<Figure size 432x288 with 1 Axes>"
      ]
     },
     "metadata": {
      "needs_background": "light"
     },
     "output_type": "display_data"
    }
   ],
   "source": [
    "lin_reg = LinearRegression()\n",
    "\n",
    "plot_RMSE_fit(lin_reg, X, y)\n",
    "plt.axis([0, 80, 0, 6])  "
   ]
  },
  {
   "cell_type": "markdown",
   "metadata": {},
   "source": [
    "And then for a polynomial model of degree 10:"
   ]
  },
  {
   "cell_type": "code",
   "execution_count": 7,
   "metadata": {},
   "outputs": [
    {
     "data": {
      "text/plain": [
       "(0.0, 80.0, 0.0, 6.0)"
      ]
     },
     "execution_count": 7,
     "metadata": {},
     "output_type": "execute_result"
    },
    {
     "data": {
      "image/png": "[encoded data removed]",
      "text/plain": [
       "<Figure size 432x288 with 1 Axes>"
      ]
     },
     "metadata": {
      "needs_background": "light"
     },
     "output_type": "display_data"
    }
   ],
   "source": [
    "polynomial_regression = Pipeline([\n",
    "        (\"poly_features\", PolynomialFeatures(degree=10, include_bias=False)),\n",
    "        (\"lin_reg\", LinearRegression()),\n",
    "    ])\n",
    "\n",
    "plot_RMSE_fit(polynomial_regression, X, y)\n",
    "plt.axis([0, 80, 0, 6])"
   ]
  },
  {
   "cell_type": "markdown",
   "metadata": {},
   "source": [
    "### Question (e)\n",
    "** What is the name of the blue curve in the plots presented above? What do these curves tell you about the generalization performance of each model as the amount of training data changes? When does each model perform better? Explain. **\n",
    "\n",
    "Enter your answer in the markdown cell below:\n",
    "\n",
    "---"
   ]
  },
  {
   "cell_type": "markdown",
   "metadata": {},
   "source": [
    "The blue curve is called the holdout curve. The curves tell you how well the model can be applied to data that is not used to build it based on the distance between the training and the testing curve. The accuracy of the holdout curve estimates the model’s ability to generalize. The straight line model performs better with a training set size between 35-40. Whereas, the polynomial model (degree 10) performs better at a training set size of 40-45. \n"
   ]
  },
  {
   "cell_type": "markdown",
   "metadata": {},
   "source": [
    "---\n",
    "\n",
    "Ridge and Lasso regression methods permit automated selection of the model complexity. In particular, LassoCV modelling object below finds optimal model for each alpha and selects optimal alpha by testing the model in a cross-validation approach. The object requires a pre-computed table of all features. In this case, we use polynomial features up to degree 10. Uncomment appropriate lines in the code block below."
   ]
  },
  {
   "cell_type": "code",
   "execution_count": 8,
   "metadata": {},
   "outputs": [
    {
     "name": "stdout",
     "output_type": "stream",
     "text": [
      "9.742837604873653\n",
      "[-3.9912532   0.          0.         -0.          2.65630886 -0.\n",
      "  0.         -0.          0.         -0.45919843]\n",
      "0.07716571064907495\n"
     ]
    }
   ],
   "source": [
    "# Define transformation pipeline\n",
    "poly_scaler = Pipeline([\n",
    "        (\"poly_features\", PolynomialFeatures(degree=10, include_bias=False)),\n",
    "        (\"std_scaler\", StandardScaler()),\n",
    "    ])\n",
    "\n",
    "# Generate the matrix of scaled polynomial features\n",
    "X_poly = poly_scaler.fit_transform(X)\n",
    "\n",
    "# Fit the model by cross-validation\n",
    "modelCV = LassoCV(cv = 5, max_iter=100000).fit(X_poly, y.ravel())\n",
    "\n",
    "# Print intercept, model coefficients, and optimal alpha\n",
    "print(modelCV.intercept_)\n",
    "print(modelCV.coef_)\n",
    "print(modelCV.alpha_)"
   ]
  },
  {
   "cell_type": "markdown",
   "metadata": {},
   "source": [
    "### Question (f)\n",
    "** Comment on the model. Has Lasso excluded any features from the model?**\n",
    "\n",
    "Enter your answer in the markdown cell below:\n",
    "\n",
    "---"
   ]
  },
  {
   "cell_type": "markdown",
   "metadata": {},
   "source": [
    "The lasso model converted some of the coefficients to 0. This is because Lasso only keeps the most important coefficients meaning the coefficients with a value of 0 were not relevant to the model. "
   ]
  },
  {
   "cell_type": "markdown",
   "metadata": {},
   "source": [
    "---\n",
    "\n",
    "LassoCV output also permits visualization of the RMSE values for each fold (and the average RMSE over the folds). Uncomment appropriate lines in the code block below to see this plot."
   ]
  },
  {
   "cell_type": "code",
   "execution_count": 9,
   "metadata": {},
   "outputs": [
    {
     "data": {
      "text/plain": [
       "(-0.4010607237643669, 2.898939276235633, 2.341757176586154, 4.393754849758143)"
      ]
     },
     "execution_count": 9,
     "metadata": {},
     "output_type": "execute_result"
    },
    {
     "data": {
      "image/png": "[encoded data removed]",
      "text/plain": [
       "<Figure size 432x288 with 1 Axes>"
      ]
     },
     "metadata": {
      "needs_background": "light"
     },
     "output_type": "display_data"
    }
   ],
   "source": [
    "# Display results\n",
    "m_log_alphas = -np.log10(modelCV.alphas_)\n",
    "\n",
    "plt.plot(m_log_alphas, np.sqrt(modelCV.mse_path_), ':')\n",
    "plt.plot(m_log_alphas, np.sqrt(modelCV.mse_path_.mean(axis=1)), 'k',\n",
    "         label='Average across the folds', linewidth=2)\n",
    "plt.axvline(-np.log10(modelCV.alpha_), linestyle='--', color='k',\n",
    "            label='alpha: CV estimate')\n",
    "\n",
    "plt.legend()\n",
    "plt.xlabel('-log(alpha)')\n",
    "plt.ylabel('RMSE')\n",
    "plt.title('Mean square error on each fold: coordinate descent ')\n",
    "plt.axis('tight')"
   ]
  },
  {
   "cell_type": "markdown",
   "metadata": {},
   "source": [
    "### Question (g)\n",
    "** What is this type of graph called? What is the best RMSE value seen in this plot and what does it represent? **\n",
    "\n",
    "Enter your answer in the markdown cell below:\n",
    "\n",
    "---"
   ]
  },
  {
   "cell_type": "markdown",
   "metadata": {},
   "source": [
    "Around alpha equal to 1, the lowest value of RMSE is just above 2.5 (red line). This is the best value of RMSE and represents the lowest error of a model that fits the data well (not over or under fitting). The average of all the folds has an RMSE of around 3 at the same value of alpha. Comparatively, the red line performs better than the average of all the folds."
   ]
  },
  {
   "cell_type": "markdown",
   "metadata": {},
   "source": [
    "---\n",
    "\n",
    "Lastly, we plot of the LassoCV model along with the original data. Uncomment appropriate lines below to see the plot."
   ]
  },
  {
   "cell_type": "code",
   "execution_count": 10,
   "metadata": {
    "scrolled": false
   },
   "outputs": [
    {
     "data": {
      "text/plain": [
       "(-10.0, 10.0, -5.0, 25.0)"
      ]
     },
     "execution_count": 10,
     "metadata": {},
     "output_type": "execute_result"
    },
    {
     "data": {
      "image/png": "[encoded data removed]",
      "text/plain": [
       "<Figure size 432x288 with 1 Axes>"
      ]
     },
     "metadata": {
      "needs_background": "light"
     },
     "output_type": "display_data"
    }
   ],
   "source": [
    "# Need to transform new instances appropriately\n",
    "X_poly_new = poly_scaler.fit_transform(X_new)\n",
    "\n",
    "# Compute predictions on the new instances\n",
    "yCV_new = modelCV.predict(X_poly_new)\n",
    "\n",
    "# Plot new predictions\n",
    "plt.plot(X_new, yCV_new, \"r-\", linewidth=2, label = \"LassoCV\")\n",
    "\n",
    "# Plot the original data\n",
    "plt.plot(X, y, \"k.\", linewidth=3)\n",
    "plt.legend(loc=\"upper left\")\n",
    "plt.xlabel(\"$x$\", fontsize=18)\n",
    "plt.ylabel(\"$y$\", rotation=0, fontsize=18)\n",
    "plt.axis([-10, 10, -5, 25])"
   ]
  },
  {
   "cell_type": "markdown",
   "metadata": {},
   "source": [
    "### Question (h)\n",
    "** Comment on the apparent fit of this model compared to the best model you constructed in Question (d) **\n",
    "\n",
    "Enter your answer in the markdown cell below:\n",
    "\n",
    "---"
   ]
  },
  {
   "cell_type": "markdown",
   "metadata": {},
   "source": [
    "The fit of the lasso model is flatter than the best model we constructed in Question (d). This allows the model to fit a lot better than the degree 5 model we previously identified was the better one. "
   ]
  },
  {
   "cell_type": "markdown",
   "metadata": {},
   "source": [
    "---"
   ]
  },
  {
   "cell_type": "markdown",
   "metadata": {},
   "source": [
    "## Problem 2: Comparison of Tree Classifier and Logistic Regression "
   ]
  },
  {
   "cell_type": "markdown",
   "metadata": {},
   "source": [
    "For this problem, we will use a standard Breast Cancer dataset from Scikit Learn library."
   ]
  },
  {
   "cell_type": "code",
   "execution_count": 11,
   "metadata": {},
   "outputs": [
    {
     "name": "stdout",
     "output_type": "stream",
     "text": [
      ".. _breast_cancer_dataset:\n",
      "\n",
      "Breast cancer wisconsin (diagnostic) dataset\n",
      "--------------------------------------------\n",
      "\n",
      "**Data Set Characteristics:**\n",
      "\n",
      "    :Number of Instances: 569\n",
      "\n",
      "    :Number of Attributes: 30 numeric, predictive attributes and the class\n",
      "\n",
      "    :Attribute Information:\n",
      "        - radius (mean of distances from center to points on the perimeter)\n",
      "        - texture (standard deviation of gray-scale values)\n",
      "        - perimeter\n",
      "        - area\n",
      "        - smoothness (local variation in radius lengths)\n",
      "        - compactness (perimeter^2 / area - 1.0)\n",
      "        - concavity (severity of concave portions of the contour)\n",
      "        - concave points (number of concave portions of the contour)\n",
      "        - symmetry\n",
      "        - fractal dimension (\"coastline approximation\" - 1)\n",
      "\n",
      "        The mean, standard error, and \"worst\" or largest (mean of the three\n",
      "        worst/largest values) of these features were computed for each image,\n",
      "        resulting in 30 features.  For instance, field 0 is Mean Radius, field\n",
      "        10 is Radius SE, field 20 is Worst Radius.\n",
      "\n",
      "        - class:\n",
      "                - WDBC-Malignant\n",
      "                - WDBC-Benign\n",
      "\n",
      "    :Summary Statistics:\n",
      "\n",
      "    ===================================== ====== ======\n",
      "                                           Min    Max\n",
      "    ===================================== ====== ======\n",
      "    radius (mean):                        6.981  28.11\n",
      "    texture (mean):                       9.71   39.28\n",
      "    perimeter (mean):                     43.79  188.5\n",
      "    area (mean):                          143.5  2501.0\n",
      "    smoothness (mean):                    0.053  0.163\n",
      "    compactness (mean):                   0.019  0.345\n",
      "    concavity (mean):                     0.0    0.427\n",
      "    concave points (mean):                0.0    0.201\n",
      "    symmetry (mean):                      0.106  0.304\n",
      "    fractal dimension (mean):             0.05   0.097\n",
      "    radius (standard error):              0.112  2.873\n",
      "    texture (standard error):             0.36   4.885\n",
      "    perimeter (standard error):           0.757  21.98\n",
      "    area (standard error):                6.802  542.2\n",
      "    smoothness (standard error):          0.002  0.031\n",
      "    compactness (standard error):         0.002  0.135\n",
      "    concavity (standard error):           0.0    0.396\n",
      "    concave points (standard error):      0.0    0.053\n",
      "    symmetry (standard error):            0.008  0.079\n",
      "    fractal dimension (standard error):   0.001  0.03\n",
      "    radius (worst):                       7.93   36.04\n",
      "    texture (worst):                      12.02  49.54\n",
      "    perimeter (worst):                    50.41  251.2\n",
      "    area (worst):                         185.2  4254.0\n",
      "    smoothness (worst):                   0.071  0.223\n",
      "    compactness (worst):                  0.027  1.058\n",
      "    concavity (worst):                    0.0    1.252\n",
      "    concave points (worst):               0.0    0.291\n",
      "    symmetry (worst):                     0.156  0.664\n",
      "    fractal dimension (worst):            0.055  0.208\n",
      "    ===================================== ====== ======\n",
      "\n",
      "    :Missing Attribute Values: None\n",
      "\n",
      "    :Class Distribution: 212 - Malignant, 357 - Benign\n",
      "\n",
      "    :Creator:  Dr. William H. Wolberg, W. Nick Street, Olvi L. Mangasarian\n",
      "\n",
      "    :Donor: Nick Street\n",
      "\n",
      "    :Date: November, 1995\n",
      "\n",
      "This is a copy of UCI ML Breast Cancer Wisconsin (Diagnostic) datasets.\n",
      "https://goo.gl/U2Uwz2\n",
      "\n",
      "Features are computed from a digitized image of a fine needle\n",
      "aspirate (FNA) of a breast mass.  They describe\n",
      "characteristics of the cell nuclei present in the image.\n",
      "\n",
      "Separating plane described above was obtained using\n",
      "Multisurface Method-Tree (MSM-T) [K. P. Bennett, \"Decision Tree\n",
      "Construction Via Linear Programming.\" Proceedings of the 4th\n",
      "Midwest Artificial Intelligence and Cognitive Science Society,\n",
      "pp. 97-101, 1992], a classification method which uses linear\n",
      "programming to construct a decision tree.  Relevant features\n",
      "were selected using an exhaustive search in the space of 1-4\n",
      "features and 1-3 separating planes.\n",
      "\n",
      "The actual linear program used to obtain the separating plane\n",
      "in the 3-dimensional space is that described in:\n",
      "[K. P. Bennett and O. L. Mangasarian: \"Robust Linear\n",
      "Programming Discrimination of Two Linearly Inseparable Sets\",\n",
      "Optimization Methods and Software 1, 1992, 23-34].\n",
      "\n",
      "This database is also available through the UW CS ftp server:\n",
      "\n",
      "ftp ftp.cs.wisc.edu\n",
      "cd math-prog/cpo-dataset/machine-learn/WDBC/\n",
      "\n",
      ".. topic:: References\n",
      "\n",
      "   - W.N. Street, W.H. Wolberg and O.L. Mangasarian. Nuclear feature extraction \n",
      "     for breast tumor diagnosis. IS&T/SPIE 1993 International Symposium on \n",
      "     Electronic Imaging: Science and Technology, volume 1905, pages 861-870,\n",
      "     San Jose, CA, 1993.\n",
      "   - O.L. Mangasarian, W.N. Street and W.H. Wolberg. Breast cancer diagnosis and \n",
      "     prognosis via linear programming. Operations Research, 43(4), pages 570-577, \n",
      "     July-August 1995.\n",
      "   - W.H. Wolberg, W.N. Street, and O.L. Mangasarian. Machine learning techniques\n",
      "     to diagnose breast cancer from fine-needle aspirates. Cancer Letters 77 (1994) \n",
      "     163-171.\n"
     ]
    }
   ],
   "source": [
    "from sklearn.datasets import load_breast_cancer\n",
    "from sklearn.tree import DecisionTreeClassifier\n",
    "from sklearn.linear_model import LogisticRegression\n",
    "from sklearn import metrics\n",
    "from sklearn.model_selection import cross_val_score\n",
    "from sklearn.model_selection import train_test_split\n",
    "\n",
    "breast_cancer = load_breast_cancer()\n",
    "# DESCR attribute of the dataset provides a high-level description of the data:\n",
    "print(breast_cancer.DESCR)"
   ]
  },
  {
   "cell_type": "markdown",
   "metadata": {},
   "source": [
    "Extract feature vectors and target; split into training and testing. ** Uncomment appropriate lines below. **"
   ]
  },
  {
   "cell_type": "code",
   "execution_count": 12,
   "metadata": {},
   "outputs": [],
   "source": [
    "X_BC = breast_cancer.data\n",
    "y_BC = breast_cancer.target\n",
    "\n",
    "# Set randomness so that we all get the same answer\n",
    "np.random.seed(841)\n",
    "\n",
    "# Split the data into train and test pieces for both X and Y\n",
    "X_train, X_test, y_train, y_test = train_test_split(X_BC, y_BC, train_size=0.80)"
   ]
  },
  {
   "cell_type": "markdown",
   "metadata": {},
   "source": [
    "Fit the Decision Tree classifier with the maximum deapth of 2 and compute model performence on training and testing. **Uncomment appropriate lines below to see the result.**"
   ]
  },
  {
   "cell_type": "code",
   "execution_count": 13,
   "metadata": {},
   "outputs": [
    {
     "name": "stdout",
     "output_type": "stream",
     "text": [
      "Accuracy on training = 0.9604\n",
      "Accuracy on test = 0.9123\n"
     ]
    }
   ],
   "source": [
    "tree_clf2 = DecisionTreeClassifier(max_depth=2, random_state=42)\n",
    "tree_clf2.fit(X_train, y_train)\n",
    "\n",
    "print ( \"Accuracy on training = %.4f\" % metrics.accuracy_score(tree_clf2.predict(X_train), y_train) )\n",
    "print ( \"Accuracy on test = %.4f\" % metrics.accuracy_score(tree_clf2.predict(X_test), y_test) )"
   ]
  },
  {
   "cell_type": "markdown",
   "metadata": {},
   "source": [
    "### Question (a)\n",
    "** In the code block below, fit a Decision Tree classifier with the maximum depth of 3.**"
   ]
  },
  {
   "cell_type": "code",
   "execution_count": 14,
   "metadata": {},
   "outputs": [
    {
     "name": "stdout",
     "output_type": "stream",
     "text": [
      "Accuracy on training = 0.9780\n",
      "Accuracy on test = 0.9211\n"
     ]
    }
   ],
   "source": [
    "# fitting a Decision Tree classifier with the maximum depth of 3\n",
    "tree_clf3 = DecisionTreeClassifier(max_depth=3, random_state=42)\n",
    "tree_clf3.fit(X_train, y_train)\n",
    "\n",
    "print ( \"Accuracy on training = %.4f\" % metrics.accuracy_score(tree_clf3.predict(X_train), y_train) )\n",
    "print ( \"Accuracy on test = %.4f\" % metrics.accuracy_score(tree_clf3.predict(X_test), y_test) )"
   ]
  },
  {
   "cell_type": "markdown",
   "metadata": {},
   "source": [
    "** Comment on the performance of the two decision tree models. Is there evidence of over-fitting? Has the over-fitting problem become worse from increasing the maximum depth of decision tree? Why or why not (explain)? **\n",
    "\n",
    "---"
   ]
  },
  {
   "cell_type": "markdown",
   "metadata": {},
   "source": [
    "The decision tree with a maximum depth of 3 is more accurate. However, since the maximum depth increased, there is more evidence of over-fitting. The information was broken down even more and has become more specific, meaning that it is less likely to be applicable to other models. "
   ]
  },
  {
   "cell_type": "markdown",
   "metadata": {},
   "source": [
    "---\n",
    "### Question (b)\n",
    "** In the code block below, create a Logistic Regression model and compute its performance on the training and testing. The code for creation of the Logistic Regression model is:**\n",
    "\n",
    "`log_reg = LogisticRegression(random_state=42, solver='newton-cg')`\n",
    "\n",
    "`log_reg.fit(X_train, y_train)`"
   ]
  },
  {
   "cell_type": "code",
   "execution_count": 15,
   "metadata": {},
   "outputs": [
    {
     "name": "stdout",
     "output_type": "stream",
     "text": [
      "Accuracy on training = 0.9670\n",
      "Accuracy on test = 0.9386\n"
     ]
    }
   ],
   "source": [
    "# creating a logistic regression model\n",
    "log_reg = LogisticRegression(random_state=42, solver='newton-cg')\n",
    "\n",
    "# fitting the logistic regression model\n",
    "log_reg.fit(X_train, y_train)\n",
    "\n",
    "print ( \"Accuracy on training = %.4f\" % metrics.accuracy_score(log_reg.predict(X_train), y_train) )\n",
    "print ( \"Accuracy on test = %.4f\" % metrics.accuracy_score(log_reg.predict(X_test), y_test) )"
   ]
  },
  {
   "cell_type": "markdown",
   "metadata": {},
   "source": [
    "---\n",
    "** In the code block below, we compute the cross-validation performance for each maximum Tree depth from 1 to 20. Uncomment appropriate lines in the code to see the results. **"
   ]
  },
  {
   "cell_type": "code",
   "execution_count": 16,
   "metadata": {},
   "outputs": [
    {
     "data": {
      "text/plain": [
       "<matplotlib.legend.Legend at 0x110d01fa0>"
      ]
     },
     "execution_count": 16,
     "metadata": {},
     "output_type": "execute_result"
    },
    {
     "data": {
      "image/png": "[encoded data removed]",
      "text/plain": [
       "<Figure size 432x288 with 1 Axes>"
      ]
     },
     "metadata": {
      "needs_background": "light"
     },
     "output_type": "display_data"
    }
   ],
   "source": [
    "# Lists to store results\n",
    "accuracies_CV_mean = []\n",
    "accuracies_CV_std = []\n",
    "\n",
    "# Depth values\n",
    "depths = range(1, 21)\n",
    "\n",
    "# Loop over depth values\n",
    "for md in depths:\n",
    "    model_DT = DecisionTreeClassifier(max_depth = md)    \n",
    "    scores = cross_val_score(model_DT, X_BC, y_BC, cv = 20)\n",
    "    accuracies_CV_mean.append(np.mean(scores))\n",
    "    accuracies_CV_std.append(np.std(scores))\n",
    "\n",
    "# Plot the Mean and Mean+/-Std\n",
    "plt.plot(depths, accuracies_CV_mean, \"r-\", label=\"CV Mean\")\n",
    "plt.plot(depths, np.array(accuracies_CV_mean) + 2.093 * np.array(accuracies_CV_std) / np.sqrt(20), \"k--\", label=\"CV Mean CI Upper\")\n",
    "plt.plot(depths, np.array(accuracies_CV_mean) - 2.093 * np.array(accuracies_CV_std) / np.sqrt(20), \"k--\", label=\"CV Mean CI Lower\")\n",
    "plt.xlabel(\"Max depth\")\n",
    "plt.ylabel(\"Accuracy\")\n",
    "plt.legend()\n"
   ]
  },
  {
   "cell_type": "markdown",
   "metadata": {},
   "source": [
    "### Question (c)\n",
    "** What is this type of graph called? What is represented by the accuracy values in this plot? What maximum depth would you select based on this plot and why?**\n",
    "\n",
    "Enter your answer in the markdown cell below:\n",
    "\n",
    "---"
   ]
  },
  {
   "cell_type": "markdown",
   "metadata": {},
   "source": [
    "Complexity control graph using regularization. The accuracy values of this plot represent how accurate the data is at the relating max depth of the model. By looking at the graph, we would pick the decision tree with a maximum depth of 3 since it offers a pretty high accuracy without getting too complex; this avoids overfitting. "
   ]
  },
  {
   "cell_type": "markdown",
   "metadata": {},
   "source": [
    "---\n",
    "### Question (d)\n",
    "** Implement cross-validation accuracy assessment for the logistic regression model in the code block below. (NOTE: Do not need to vary model complexity.)**"
   ]
  },
  {
   "cell_type": "code",
   "execution_count": 17,
   "metadata": {},
   "outputs": [
    {
     "name": "stdout",
     "output_type": "stream",
     "text": [
      "AUC = 0.9883\n"
     ]
    },
    {
     "data": {
      "image/png": "[encoded data removed]",
      "text/plain": [
       "<Figure size 432x288 with 1 Axes>"
      ]
     },
     "metadata": {
      "needs_background": "light"
     },
     "output_type": "display_data"
    }
   ],
   "source": [
    "# Calculate the ftr and tpr for all thresholds of the classification\n",
    "probabilities = log_reg.predict_proba(X_test)\n",
    "predictions = probabilities[:,1]\n",
    "fpr, tpr, threshold = metrics.roc_curve(y_test, predictions)\n",
    "roc_auc = metrics.auc(fpr,tpr)\n",
    "print('AUC = %.4f' % roc_auc)\n",
    "\n",
    "# Plot the graph\n",
    "plt.plot(fpr, tpr, 'b', label = 'AUC = %0.2f' % roc_auc)\n",
    "plt.legend(loc = 'lower right')\n",
    "plt.plot([0,1], [0,1], 'r--')\n",
    "plt.xlim([0,1])\n",
    "plt.ylim([0,1])\n",
    "plt.ylabel('True Positive Rate')\n",
    "plt.xlabel('False Positive Rate')\n",
    "plt.show()"
   ]
  },
  {
   "cell_type": "markdown",
   "metadata": {},
   "source": [
    "** Compare the logistic regression accuracy to that of your best Decision Tree model. Would you prefer a Decision Tree model or a Logistic Regression model? Consider and discuss accuracy, usability, and interpretability for potential stakeholders. **\n",
    "\n",
    "---"
   ]
  },
  {
   "cell_type": "markdown",
   "metadata": {},
   "source": [
    "**Accuracy** - Logistic regression (99%) is more accurate when compared to the best Decision Tree Model (97%). Therefore , we would prefer a Logistic Regression Model. <br>\n",
    "\n",
    "**Usability** - Decision Trees are a lot more personalized and cannot be used across different data sets. Logistic Regressions can be applied to different sets of data making it more usable. <br>\n",
    "\n",
    "**Interpretability** - Decision Trees are easier to interpret since they are clear and easy to follow for individuals with little to no knowledge of data. Logistic Regressions require a lot more knowledge to interpret making them more confusing to potential stakeholders."
   ]
  }
 ],
 "metadata": {
  "interpreter": {
   "hash": "7812ea015bdcee6f23a998adcdd2ef97c151c0c241b7b7070987d9313e41299d"
  },
  "kernelspec": {
   "display_name": "Python 3.9.1 64-bit",
   "language": "python",
   "name": "python3"
  },
  "language_info": {
   "codemirror_mode": {
    "name": "ipython",
    "version": 3
   },
   "file_extension": ".py",
   "mimetype": "text/x-python",
   "name": "python",
   "nbconvert_exporter": "python",
   "pygments_lexer": "ipython3",
   "version": "3.9.1"
  }
 },
 "nbformat": 4,
 "nbformat_minor": 2
}
