{
 "cells": [ 
  {
   "cell_type": "markdown",
   "metadata": {},
   "source": [
    "Nathan Saric - 04/08/2021"
   ]
  },
  {
   "cell_type": "markdown",
   "metadata": {},
   "source": [
    "## Clustering\n",
    "In this part of the assignment we look at [Hierarchical Cluster Analysis (HCA)](https://docs.scipy.org/doc/scipy/reference/cluster.hierarchy.html#module-scipy.cluster.hierarchy) clustering using scipy.\n",
    "\n",
    "For reference, [sklearn](http://scikit-learn.org/stable/modules/clustering.html) can be used for many of the other clustering approaches discussed in class.\n",
    "\n",
    "In chapter 6 of Data Science for Business, the author performs cluster analysis on a [whiskey dataset](http://adn.biol.umontreal.ca/~numericalecology/data/scotch.html).\n",
    "\n",
    "First, lets import this dataset, drop a few features, and take a look."
   ]
  },
  {
   "cell_type": "code",
   "execution_count": 1,
   "metadata": {},
   "outputs": [],
   "source": [
    "import pandas as pd\n",
    "import numpy as np\n",
    "import matplotlib.pylab as plt\n",
    "%matplotlib inline"
   ]
  },
  {
   "cell_type": "code",
   "execution_count": 2,
   "metadata": {},
   "outputs": [],
   "source": [
    "whiskey = pd.read_csv(\"scotch.csv\")\n",
    "\n",
    "whiskey = whiskey.drop([u'age', u'dist', u'score', u'percent', u'region', u'district', u'islay', u'midland', u'spey', u'east', u'west', u'north ', u'lowland', u'campbell', u'islands'], axis=1)"
   ]
  },
  {
   "cell_type": "code",
   "execution_count": 3,
   "metadata": {},
   "outputs": [
    {
     "data": {
      "text/html": [
       "<div>\n",
       "<style scoped>\n",
       "    .dataframe tbody tr th:only-of-type {\n",
       "        vertical-align: middle;\n",
       "    }\n",
       "\n",
       "    .dataframe tbody tr th {\n",
       "        vertical-align: top;\n",
       "    }\n",
       "\n",
       "    .dataframe thead th {\n",
       "        text-align: right;\n",
       "    }\n",
       "</style>\n",
       "<table border=\"1\" class=\"dataframe\">\n",
       "  <thead>\n",
       "    <tr style=\"text-align: right;\">\n",
       "      <th></th>\n",
       "      <th>color.wyne</th>\n",
       "      <th>color.yellow</th>\n",
       "      <th>color.v.pale</th>\n",
       "      <th>color.pale</th>\n",
       "      <th>color.p.gold</th>\n",
       "      <th>color.gold</th>\n",
       "      <th>color.o.gold</th>\n",
       "      <th>color.f.gold</th>\n",
       "      <th>color.bronze</th>\n",
       "      <th>color.p.amber</th>\n",
       "      <th>...</th>\n",
       "      <th>fin.smoke</th>\n",
       "      <th>fin.sweet</th>\n",
       "      <th>fin.spice</th>\n",
       "      <th>fin.oil</th>\n",
       "      <th>fin.salt</th>\n",
       "      <th>fin.arome</th>\n",
       "      <th>fin.ling</th>\n",
       "      <th>fin.long</th>\n",
       "      <th>fin.very</th>\n",
       "      <th>fin.quick</th>\n",
       "    </tr>\n",
       "  </thead>\n",
       "  <tbody>\n",
       "    <tr>\n",
       "      <th>Aberfeldy</th>\n",
       "      <td>0</td>\n",
       "      <td>1</td>\n",
       "      <td>0</td>\n",
       "      <td>0</td>\n",
       "      <td>0</td>\n",
       "      <td>0</td>\n",
       "      <td>0</td>\n",
       "      <td>0</td>\n",
       "      <td>0</td>\n",
       "      <td>0</td>\n",
       "      <td>...</td>\n",
       "      <td>0</td>\n",
       "      <td>0</td>\n",
       "      <td>1</td>\n",
       "      <td>0</td>\n",
       "      <td>0</td>\n",
       "      <td>0</td>\n",
       "      <td>0</td>\n",
       "      <td>0</td>\n",
       "      <td>0</td>\n",
       "      <td>0</td>\n",
       "    </tr>\n",
       "    <tr>\n",
       "      <th>Aberlour</th>\n",
       "      <td>0</td>\n",
       "      <td>0</td>\n",
       "      <td>0</td>\n",
       "      <td>0</td>\n",
       "      <td>0</td>\n",
       "      <td>0</td>\n",
       "      <td>0</td>\n",
       "      <td>0</td>\n",
       "      <td>0</td>\n",
       "      <td>0</td>\n",
       "      <td>...</td>\n",
       "      <td>0</td>\n",
       "      <td>0</td>\n",
       "      <td>0</td>\n",
       "      <td>0</td>\n",
       "      <td>0</td>\n",
       "      <td>0</td>\n",
       "      <td>1</td>\n",
       "      <td>0</td>\n",
       "      <td>0</td>\n",
       "      <td>0</td>\n",
       "    </tr>\n",
       "    <tr>\n",
       "      <th>Ardberg</th>\n",
       "      <td>0</td>\n",
       "      <td>0</td>\n",
       "      <td>0</td>\n",
       "      <td>0</td>\n",
       "      <td>0</td>\n",
       "      <td>0</td>\n",
       "      <td>0</td>\n",
       "      <td>0</td>\n",
       "      <td>0</td>\n",
       "      <td>0</td>\n",
       "      <td>...</td>\n",
       "      <td>0</td>\n",
       "      <td>0</td>\n",
       "      <td>0</td>\n",
       "      <td>0</td>\n",
       "      <td>1</td>\n",
       "      <td>0</td>\n",
       "      <td>0</td>\n",
       "      <td>0</td>\n",
       "      <td>0</td>\n",
       "      <td>0</td>\n",
       "    </tr>\n",
       "    <tr>\n",
       "      <th>Ardmore</th>\n",
       "      <td>0</td>\n",
       "      <td>0</td>\n",
       "      <td>0</td>\n",
       "      <td>0</td>\n",
       "      <td>1</td>\n",
       "      <td>0</td>\n",
       "      <td>0</td>\n",
       "      <td>0</td>\n",
       "      <td>0</td>\n",
       "      <td>0</td>\n",
       "      <td>...</td>\n",
       "      <td>0</td>\n",
       "      <td>0</td>\n",
       "      <td>0</td>\n",
       "      <td>0</td>\n",
       "      <td>0</td>\n",
       "      <td>0</td>\n",
       "      <td>0</td>\n",
       "      <td>0</td>\n",
       "      <td>0</td>\n",
       "      <td>0</td>\n",
       "    </tr>\n",
       "    <tr>\n",
       "      <th>Auchentoshan</th>\n",
       "      <td>0</td>\n",
       "      <td>0</td>\n",
       "      <td>0</td>\n",
       "      <td>0</td>\n",
       "      <td>1</td>\n",
       "      <td>0</td>\n",
       "      <td>0</td>\n",
       "      <td>0</td>\n",
       "      <td>0</td>\n",
       "      <td>0</td>\n",
       "      <td>...</td>\n",
       "      <td>0</td>\n",
       "      <td>0</td>\n",
       "      <td>1</td>\n",
       "      <td>0</td>\n",
       "      <td>0</td>\n",
       "      <td>0</td>\n",
       "      <td>0</td>\n",
       "      <td>0</td>\n",
       "      <td>0</td>\n",
       "      <td>0</td>\n",
       "    </tr>\n",
       "  </tbody>\n",
       "</table>\n",
       "<p>5 rows × 68 columns</p>\n",
       "</div>"
      ],
      "text/plain": [
       "              color.wyne  color.yellow  color.v.pale  color.pale  \\\n",
       "Aberfeldy              0             1             0           0   \n",
       "Aberlour               0             0             0           0   \n",
       "Ardberg                0             0             0           0   \n",
       "Ardmore                0             0             0           0   \n",
       "Auchentoshan           0             0             0           0   \n",
       "\n",
       "              color.p.gold  color.gold  color.o.gold  color.f.gold  \\\n",
       "Aberfeldy                0           0             0             0   \n",
       "Aberlour                 0           0             0             0   \n",
       "Ardberg                  0           0             0             0   \n",
       "Ardmore                  1           0             0             0   \n",
       "Auchentoshan             1           0             0             0   \n",
       "\n",
       "              color.bronze  color.p.amber  ...  fin.smoke  fin.sweet  \\\n",
       "Aberfeldy                0              0  ...          0          0   \n",
       "Aberlour                 0              0  ...          0          0   \n",
       "Ardberg                  0              0  ...          0          0   \n",
       "Ardmore                  0              0  ...          0          0   \n",
       "Auchentoshan             0              0  ...          0          0   \n",
       "\n",
       "              fin.spice  fin.oil  fin.salt  fin.arome  fin.ling  fin.long  \\\n",
       "Aberfeldy             1        0         0          0         0         0   \n",
       "Aberlour              0        0         0          0         1         0   \n",
       "Ardberg               0        0         1          0         0         0   \n",
       "Ardmore               0        0         0          0         0         0   \n",
       "Auchentoshan          1        0         0          0         0         0   \n",
       "\n",
       "              fin.very  fin.quick  \n",
       "Aberfeldy            0          0  \n",
       "Aberlour             0          0  \n",
       "Ardberg              0          0  \n",
       "Ardmore              0          0  \n",
       "Auchentoshan         0          0  \n",
       "\n",
       "[5 rows x 68 columns]"
      ]
     },
     "execution_count": 3,
     "metadata": {},
     "output_type": "execute_result"
    }
   ],
   "source": [
    "whiskey.head()"
   ]
  },
  {
   "cell_type": "code",
   "execution_count": 4,
   "metadata": {},
   "outputs": [
    {
     "data": {
      "text/plain": [
       "array(['color.wyne', 'color.yellow', 'color.v.pale', 'color.pale',\n",
       "       'color.p.gold', 'color.gold', 'color.o.gold', 'color.f.gold',\n",
       "       'color.bronze', 'color.p.amber', 'color.amber', 'color.f.amber',\n",
       "       'color.red', 'color.sherry', 'nose.aroma', 'nose.peat',\n",
       "       'nose.sweet', 'nose.light', 'nose.fresh', 'nose.dry', 'nose.fruit',\n",
       "       'nose.grass', 'nose.sea', 'nose.sherry', 'nose.spicy', 'nose.rich',\n",
       "       'body.soft', 'body.med', 'body.full', 'body.round', 'body.smooth',\n",
       "       'body.light', 'body.firm', 'body.oily', 'pal.full', 'pal.dry',\n",
       "       'pal.sherry', 'pal.big', 'pal.light', 'pal.smooth', 'pal.clean',\n",
       "       'pal.fruit', 'pal.grass', 'pal.smoke', 'pal.sweet', 'pal.spice',\n",
       "       'pal.oil', 'pal.salt', 'pal.arome', 'fin.full', 'fin.dry',\n",
       "       'fin.warm', 'fin.big', 'fin.light', 'fin.smooth', 'fin.clean',\n",
       "       'fin.fruit', 'fin.grass', 'fin.smoke', 'fin.sweet', 'fin.spice',\n",
       "       'fin.oil', 'fin.salt', 'fin.arome', 'fin.ling', 'fin.long',\n",
       "       'fin.very', 'fin.quick'], dtype=object)"
      ]
     },
     "execution_count": 4,
     "metadata": {},
     "output_type": "execute_result"
    }
   ],
   "source": [
    "whiskey.columns.values"
   ]
  },
  {
   "cell_type": "markdown",
   "metadata": {},
   "source": [
    "We see that our dataset is composed of categorical features describing the Colour, Nose, Body, Palate, and Finish of each whiskey. Each row of data is refered to as the feature vector which describes the whiskey. In this case, each whiskey has a feature vector of 68 attributes.\n",
    "\n",
    "Suppose you are interested in finding whiskeys that are similar to Highland Park.\n",
    "\n",
    "---\n",
    "** Question 1 **  \n",
    "The code below calculates the euclidean distance between Highland Park and other whiskeys and returns the closest 10 whiskeys. Perform the same analysis using at least [one other distance function](https://docs.scipy.org/doc/scipy/reference/spatial.distance.html)."
   ]
  },
  {
   "cell_type": "code",
   "execution_count": 5,
   "metadata": {},
   "outputs": [
    {
     "data": {
      "text/html": [
       "<div>\n",
       "<style scoped>\n",
       "    .dataframe tbody tr th:only-of-type {\n",
       "        vertical-align: middle;\n",
       "    }\n",
       "\n",
       "    .dataframe tbody tr th {\n",
       "        vertical-align: top;\n",
       "    }\n",
       "\n",
       "    .dataframe thead th {\n",
       "        text-align: right;\n",
       "    }\n",
       "</style>\n",
       "<table border=\"1\" class=\"dataframe\">\n",
       "  <thead>\n",
       "    <tr style=\"text-align: right;\">\n",
       "      <th></th>\n",
       "      <th>euc_name</th>\n",
       "      <th>euc_score</th>\n",
       "    </tr>\n",
       "  </thead>\n",
       "  <tbody>\n",
       "    <tr>\n",
       "      <th>0</th>\n",
       "      <td>Highland Park</td>\n",
       "      <td>0.000000</td>\n",
       "    </tr>\n",
       "    <tr>\n",
       "      <th>1</th>\n",
       "      <td>North Port</td>\n",
       "      <td>3.162278</td>\n",
       "    </tr>\n",
       "    <tr>\n",
       "      <th>2</th>\n",
       "      <td>Glendronach</td>\n",
       "      <td>3.162278</td>\n",
       "    </tr>\n",
       "    <tr>\n",
       "      <th>3</th>\n",
       "      <td>Balmenach</td>\n",
       "      <td>3.162278</td>\n",
       "    </tr>\n",
       "    <tr>\n",
       "      <th>4</th>\n",
       "      <td>Balvenie</td>\n",
       "      <td>3.162278</td>\n",
       "    </tr>\n",
       "    <tr>\n",
       "      <th>5</th>\n",
       "      <td>Lochside</td>\n",
       "      <td>3.162278</td>\n",
       "    </tr>\n",
       "    <tr>\n",
       "      <th>6</th>\n",
       "      <td>Glen  Albyn</td>\n",
       "      <td>3.316625</td>\n",
       "    </tr>\n",
       "    <tr>\n",
       "      <th>7</th>\n",
       "      <td>Saint Magdalene</td>\n",
       "      <td>3.316625</td>\n",
       "    </tr>\n",
       "    <tr>\n",
       "      <th>8</th>\n",
       "      <td>Glendullan</td>\n",
       "      <td>3.316625</td>\n",
       "    </tr>\n",
       "    <tr>\n",
       "      <th>9</th>\n",
       "      <td>Glenfarclas</td>\n",
       "      <td>3.316625</td>\n",
       "    </tr>\n",
       "  </tbody>\n",
       "</table>\n",
       "</div>"
      ],
      "text/plain": [
       "          euc_name  euc_score\n",
       "0    Highland Park   0.000000\n",
       "1       North Port   3.162278\n",
       "2      Glendronach   3.162278\n",
       "3        Balmenach   3.162278\n",
       "4         Balvenie   3.162278\n",
       "5         Lochside   3.162278\n",
       "6      Glen  Albyn   3.316625\n",
       "7  Saint Magdalene   3.316625\n",
       "8       Glendullan   3.316625\n",
       "9      Glenfarclas   3.316625"
      ]
     },
     "execution_count": 5,
     "metadata": {},
     "output_type": "execute_result"
    }
   ],
   "source": [
    "from scipy.spatial import distance\n",
    "from scipy.spatial.distance import pdist, squareform\n",
    "\n",
    "distances = pd.DataFrame()\n",
    "highland_loc = np.where(whiskey.index == 'Highland Park')[0][0]\n",
    "\n",
    "euclidean_distances = distance.squareform(distance.pdist(whiskey, 'euclidean'))\n",
    "euclidean_closest = np.argsort(euclidean_distances[:, highland_loc])\n",
    "distances['euc_name'] = whiskey.index[euclidean_closest]\n",
    "distances['euc_score'] = euclidean_distances[euclidean_closest, highland_loc]\n",
    "\n",
    "distances.head(10)"
   ]
  },
  {
   "cell_type": "code",
   "execution_count": 6,
   "metadata": {},
   "outputs": [
    {
     "data": {
      "text/html": [
       "<div>\n",
       "<style scoped>\n",
       "    .dataframe tbody tr th:only-of-type {\n",
       "        vertical-align: middle;\n",
       "    }\n",
       "\n",
       "    .dataframe tbody tr th {\n",
       "        vertical-align: top;\n",
       "    }\n",
       "\n",
       "    .dataframe thead th {\n",
       "        text-align: right;\n",
       "    }\n",
       "</style>\n",
       "<table border=\"1\" class=\"dataframe\">\n",
       "  <thead>\n",
       "    <tr style=\"text-align: right;\">\n",
       "      <th></th>\n",
       "      <th>jac_name</th>\n",
       "      <th>jac_score</th>\n",
       "    </tr>\n",
       "  </thead>\n",
       "  <tbody>\n",
       "    <tr>\n",
       "      <th>0</th>\n",
       "      <td>Highland Park</td>\n",
       "      <td>0.000000</td>\n",
       "    </tr>\n",
       "    <tr>\n",
       "      <th>1</th>\n",
       "      <td>Glendullan</td>\n",
       "      <td>0.578947</td>\n",
       "    </tr>\n",
       "    <tr>\n",
       "      <th>2</th>\n",
       "      <td>Glendronach</td>\n",
       "      <td>0.588235</td>\n",
       "    </tr>\n",
       "    <tr>\n",
       "      <th>3</th>\n",
       "      <td>Balmenach</td>\n",
       "      <td>0.588235</td>\n",
       "    </tr>\n",
       "    <tr>\n",
       "      <th>4</th>\n",
       "      <td>Oban</td>\n",
       "      <td>0.600000</td>\n",
       "    </tr>\n",
       "    <tr>\n",
       "      <th>5</th>\n",
       "      <td>Lochside</td>\n",
       "      <td>0.625000</td>\n",
       "    </tr>\n",
       "    <tr>\n",
       "      <th>6</th>\n",
       "      <td>North Port</td>\n",
       "      <td>0.625000</td>\n",
       "    </tr>\n",
       "    <tr>\n",
       "      <th>7</th>\n",
       "      <td>Glen  Albyn</td>\n",
       "      <td>0.647059</td>\n",
       "    </tr>\n",
       "    <tr>\n",
       "      <th>8</th>\n",
       "      <td>Saint Magdalene</td>\n",
       "      <td>0.647059</td>\n",
       "    </tr>\n",
       "    <tr>\n",
       "      <th>9</th>\n",
       "      <td>Linkwood</td>\n",
       "      <td>0.666667</td>\n",
       "    </tr>\n",
       "  </tbody>\n",
       "</table>\n",
       "</div>"
      ],
      "text/plain": [
       "          jac_name  jac_score\n",
       "0    Highland Park   0.000000\n",
       "1       Glendullan   0.578947\n",
       "2      Glendronach   0.588235\n",
       "3        Balmenach   0.588235\n",
       "4             Oban   0.600000\n",
       "5         Lochside   0.625000\n",
       "6       North Port   0.625000\n",
       "7      Glen  Albyn   0.647059\n",
       "8  Saint Magdalene   0.647059\n",
       "9         Linkwood   0.666667"
      ]
     },
     "execution_count": 6,
     "metadata": {},
     "output_type": "execute_result"
    }
   ],
   "source": [
    "# Calculates the jaccard distance between Highland Park and other whiskeys and returns the closest 10 whiskeys\n",
    "jc_distances = pd.DataFrame()\n",
    "jc_highland_loc = np.where(whiskey.index == 'Highland Park')[0][0]\n",
    "\n",
    "jaccard_distances = distance.squareform(distance.pdist(whiskey, 'jaccard'))\n",
    "jaccard_closest = np.argsort(jaccard_distances[:, highland_loc])\n",
    "jc_distances['jac_name'] = whiskey.index[jaccard_closest]\n",
    "jc_distances['jac_score'] = jaccard_distances[jaccard_closest, jc_highland_loc]\n",
    "\n",
    "jc_distances.head(10)"
   ]
  },
  {
   "cell_type": "markdown",
   "metadata": {},
   "source": [
    "Suppose you now want to categorize the whiskeys based on how similar they are to each other. You can use scipy's hierarchical/agglomerative clustering to build a dendrogram."
   ]
  },
  {
   "cell_type": "code",
   "execution_count": 7,
   "metadata": {},
   "outputs": [
    {
     "data": {
      "image/png": "[encoded data removed]",
      "text/plain": [
       "<Figure size 2304x1152 with 1 Axes>"
      ]
     },
     "metadata": {
      "needs_background": "light"
     },
     "output_type": "display_data"
    }
   ],
   "source": [
    "from scipy.cluster.hierarchy import linkage, dendrogram\n",
    "\n",
    "# This function gets pairwise distances between observations in n-dimensional space.\n",
    "dists = pdist(whiskey, metric=\"euclidean\")\n",
    "\n",
    "# This scipy's function performs hierarchical/agglomerative clustering on the condensed distance matrix y.\n",
    "links = linkage(dists, method='average')\n",
    "\n",
    "# Now we want to plot those 'links' using \"dendrogram\" function\n",
    "plt.rcParams['figure.figsize'] = 32, 16\n",
    "\n",
    "den = dendrogram(links)\n",
    "\n",
    "plt.xlabel('Samples',fontsize=18)\n",
    "plt.ylabel('Distance',fontsize=18)\n",
    "plt.xticks(rotation=90,fontsize=16)\n",
    "plt.show()"
   ]
  },
  {
   "cell_type": "markdown",
   "metadata": {},
   "source": [
    "** Question 2 **  \n",
    "Discuss some insights you can decipher from this dendrogram.\n",
    "\n",
    "---"
   ]
  },
  {
   "cell_type": "markdown",
   "metadata": {},
   "source": [
    "By drawing a horizontal line through the dendogram when the distance is roughly halfway between 2 and 3, we notice there are 3 pairs of observations joined together below the line. This suggests that these pairs are similar clusters. For example, observation 48 and 58 have the shortest distance and therefore are most similar. Similarly, observations 2 and 16, along with observations 21 and 47, follow a similar logic. On the other hand, when the distance is roughly between 4 and 5, the dendrogram illustrates that observations 30 and 74 should be clustered separately from the rest of the samples. "
   ]
  },
  {
   "cell_type": "markdown",
   "metadata": {},
   "source": [
    "---\n",
    "## Ensemble Learning\n",
    "\n",
    "In this part of the assignment, we look at [Ensemble Methods with sklearn](http://scikit-learn.org/stable/modules/ensemble.html). Specifically, we use [Forests of randomized trees](http://scikit-learn.org/stable/modules/ensemble.html#forest), [Gradient Tree Boosting](http://scikit-learn.org/stable/modules/ensemble.html#gradient-boosting)\n",
    "\n",
    "### Classifiction using Forest of Randomized Trees\n",
    "\n",
    "The code below trains a `RandomForestClassifier` on the iris dataset."
   ]
  },
  {
   "cell_type": "code",
   "execution_count": 8,
   "metadata": {},
   "outputs": [
    {
     "name": "stdout",
     "output_type": "stream",
     "text": [
      "RandomForestClassifier 0.96\n"
     ]
    }
   ],
   "source": [
    "from sklearn.datasets import load_iris\n",
    "from sklearn.model_selection import train_test_split\n",
    "from sklearn.ensemble import RandomForestClassifier\n",
    "from sklearn.metrics import accuracy_score\n",
    "\n",
    "iris = load_iris()\n",
    "X_train, X_test, y_train, y_test = train_test_split(iris[\"data\"], iris[\"target\"], test_size=0.33, random_state=15)\n",
    "\n",
    "rnd_clf = RandomForestClassifier(n_estimators=500, n_jobs=-1)\n",
    "rnd_clf.fit(X_train,y_train)\n",
    "rnd_pred = rnd_clf.predict(X_test)\n",
    "\n",
    "print(rnd_clf.__class__.__name__, accuracy_score(y_test, rnd_pred))"
   ]
  },
  {
   "cell_type": "markdown",
   "metadata": {},
   "source": [
    "If you look at a single Decision Tree, important features are likely to appear closer to the root of the tree, while unimportant features will often appear closer to the leaves (or not at all). It is therefore possible to get an estimate of a feature’s importance by computing the average depth at which it appears across all trees in the forest. This can give a quick idea of what features actually matter if you need to perform feature selection"
   ]
  },
  {
   "cell_type": "code",
   "execution_count": 9,
   "metadata": {},
   "outputs": [
    {
     "name": "stdout",
     "output_type": "stream",
     "text": [
      "sepal length (cm) 0.08096785188870217\n",
      "sepal width (cm) 0.027320201563630218\n",
      "petal length (cm) 0.4509465142158711\n",
      "petal width (cm) 0.44076543233179655\n"
     ]
    }
   ],
   "source": [
    "for name,score in zip(iris[\"feature_names\"],rnd_clf.feature_importances_):\n",
    "    print(name,score)"
   ]
  },
  {
   "cell_type": "markdown",
   "metadata": {},
   "source": [
    "** Question 3 **  \n",
    "Use the cell below to train a classifier of your choice using only petal length and petal width and compare the accuracy to the one of the Random Forest. (Hint: length and width are the last two columns of the data array.) "
   ]
  },
  {
   "cell_type": "code",
   "execution_count": 10,
   "metadata": {},
   "outputs": [
    {
     "name": "stdout",
     "output_type": "stream",
     "text": [
      "BaggingClassifier 0.98\n"
     ]
    }
   ],
   "source": [
    "# Trains a BaggingClassifier using only the petal length and petal width from the iris dataset\n",
    "from sklearn.datasets import load_iris\n",
    "from sklearn.model_selection import train_test_split\n",
    "from sklearn.ensemble import BaggingClassifier\n",
    "from sklearn.neighbors import KNeighborsClassifier\n",
    "\n",
    "iris_petal = load_iris()\n",
    "iris_petal.data = iris_petal.data[:,2:]\n",
    "\n",
    "X_train, X_test, y_train, y_test = train_test_split(iris_petal[\"data\"], iris_petal[\"target\"], test_size=0.33, random_state=15)\n",
    "\n",
    "bg_clf = BaggingClassifier(KNeighborsClassifier(), max_samples=0.5, max_features=0.5)\n",
    "\n",
    "bg_clf.fit(X_train,y_train)\n",
    "bg_pred = bg_clf.predict(X_test)\n",
    "\n",
    "print(bg_clf.__class__.__name__, accuracy_score(y_test, bg_pred))"
   ]
  },
  {
   "cell_type": "markdown",
   "metadata": {},
   "source": [
    "When comparing the accuracy of the BaggingClassifier to the RandomForestClassifier, the RandomForestClassifier has an accuracy of 96% whereas the BaggingClassifier produces an accuracy ranging between 94% and 100% when running it mutiple times. Therefore, on average, the BaggingClassifier is more accurate than the RandomForestClassifier."
   ]
  },
  {
   "cell_type": "markdown",
   "metadata": {},
   "source": [
    "### Regression using Gradient Tree Boosting\n",
    "\n",
    "The code below uses `GradientBoostingRegressor` on sample data."
   ]
  },
  {
   "cell_type": "code",
   "execution_count": 11,
   "metadata": {},
   "outputs": [],
   "source": [
    "# Data Sampling\n",
    "np.random.seed(42)\n",
    "X = np.random.rand(100, 1) - 0.5\n",
    "y = 10*X[:, 0]**3 + .08 * np.random.randn(100)"
   ]
  },
  {
   "cell_type": "code",
   "execution_count": 12,
   "metadata": {},
   "outputs": [
    {
     "data": {
      "text/plain": [
       "GradientBoostingRegressor(max_depth=2, n_estimators=200, random_state=42)"
      ]
     },
     "execution_count": 12,
     "metadata": {},
     "output_type": "execute_result"
    }
   ],
   "source": [
    "# Training\n",
    "from sklearn.ensemble import GradientBoostingRegressor\n",
    "\n",
    "gbrt = GradientBoostingRegressor(max_depth=2, n_estimators=3, learning_rate=1.0, random_state=42)\n",
    "gbrt.fit(X, y)\n",
    "\n",
    "gbrt_slow = GradientBoostingRegressor(max_depth=2, n_estimators=200, learning_rate=0.1, random_state=42)\n",
    "gbrt_slow.fit(X, y)"
   ]
  },
  {
   "cell_type": "code",
   "execution_count": 13,
   "metadata": {},
   "outputs": [
    {
     "data": {
      "image/png": "[encoded data removed]",
      "text/plain": [
       "<Figure size 792x288 with 2 Axes>"
      ]
     },
     "metadata": {
      "needs_background": "light"
     },
     "output_type": "display_data"
    }
   ],
   "source": [
    "# Plotting\n",
    "def plot_predictions(regressors, X, y, axes, label=None, style=\"r-\", data_style=\"b.\", data_label=None):\n",
    "    x1 = np.linspace(axes[0], axes[1], 500)\n",
    "    y_pred = sum(regressor.predict(x1.reshape(-1, 1)) for regressor in regressors)\n",
    "    plt.plot(X[:, 0], y, data_style, label=data_label)\n",
    "    plt.plot(x1, y_pred, style, linewidth=2, label=label)\n",
    "    if label or data_label:\n",
    "        plt.legend(loc=\"upper center\", fontsize=16)\n",
    "    plt.axis(axes)\n",
    "    \n",
    "plt.figure(figsize=(11,4))\n",
    "\n",
    "plt.subplot(121)\n",
    "plot_predictions([gbrt], X, y, axes=[-0.5, 0.5, -0.8, 0.8], label=\"Ensemble predictions\")\n",
    "plt.title(\"learning_rate={}, n_estimators={}\".format(gbrt.learning_rate, gbrt.n_estimators), fontsize=14)\n",
    "\n",
    "plt.subplot(122)\n",
    "plot_predictions([gbrt_slow], X, y, axes=[-0.5, 0.5, -0.8, 0.8])\n",
    "plt.title(\"learning_rate={}, n_estimators={}\".format(gbrt_slow.learning_rate, gbrt_slow.n_estimators), fontsize=14)\n",
    "\n",
    "plt.show()"
   ]
  },
  {
   "cell_type": "markdown",
   "metadata": {},
   "source": [
    "As you can see, the model on the left underfits the data and the model on the right overfits the data.\n",
    "\n",
    "** Question 4 **  \n",
    "Which model parameters can you adjust to optimize the fit?\n",
    "\n",
    "---"
   ]
  },
  {
   "cell_type": "markdown",
   "metadata": {},
   "source": [
    "When using the GradientBoostingRegressor function, the two most important parameters are n_estimators and learning_rate. \n",
    "\n",
    "n_estimators specifies the number of weak learners (regression trees) to use. The first plot illustrates when n_estimators is 3 whereas the second plot shows when this parameter is 200. \n",
    "\n",
    "learning_rate is a hyper-paramter that takes on a value between 0 and 1 used to control overfitting from shrinkage and aims to control the training error. The first plot illustrates when learning_rate is 1.0 whereas the second plot shows when this parameter is 0.1. \n",
    "\n",
    "In order to optimize the fit, we can adjust n_estimators and learning_rate. Ideally, you would tune the hyper-parameters to determine the optimal number of iterations by early stopping. However, supplying n_estimators somewhere in the range 90-110, and a learning_rate of approximately 0.05 should produce a plot with minimal underfitting and overfitting errors. \n",
    "\n",
    "This plot is shown below:"
   ]
  },
  {
   "cell_type": "code",
   "execution_count": 14,
   "metadata": {},
   "outputs": [
    {
     "data": {
      "image/png": "[encoded data removed]",
      "text/plain": [
       "<Figure size 792x288 with 1 Axes>"
      ]
     },
     "metadata": {
      "needs_background": "light"
     },
     "output_type": "display_data"
    }
   ],
   "source": [
    "from sklearn.ensemble import GradientBoostingRegressor\n",
    "\n",
    "# Training an adjusted model\n",
    "gbrt_optimal = GradientBoostingRegressor(max_depth=2, n_estimators=100, learning_rate=0.05, random_state=42)\n",
    "gbrt_optimal.fit(X, y)\n",
    "\n",
    "# Plotting the adjusted model\n",
    "def plot_predictions(regressors, X, y, axes, label=None, style=\"r-\", data_style=\"b.\", data_label=None):\n",
    "    x1 = np.linspace(axes[0], axes[1], 500)\n",
    "    y_pred = sum(regressor.predict(x1.reshape(-1, 1)) for regressor in regressors)\n",
    "    plt.plot(X[:, 0], y, data_style, label=data_label)\n",
    "    plt.plot(x1, y_pred, style, linewidth=2, label=label)\n",
    "    if label or data_label:\n",
    "        plt.legend(loc=\"upper center\", fontsize=16)\n",
    "    plt.axis(axes)\n",
    "    \n",
    "plt.figure(figsize=(11,4))\n",
    "\n",
    "plt.subplot(121)\n",
    "plot_predictions([gbrt_optimal], X, y, axes=[-0.5, 0.5, -0.8, 0.8])\n",
    "plt.title(\"learning_rate={}, n_estimators={}\".format(gbrt_optimal.learning_rate, gbrt_optimal.n_estimators), fontsize=14)\n",
    "\n",
    "plt.show()"
   ]
  },
  {
   "cell_type": "markdown",
   "metadata": {},
   "source": [
    "---\n",
    "\n",
    "### Classification using Stacked Generalization\n",
    "\n",
    "In this section, we combine the various ensemble methods learned to create a model stack for classification task.\n",
    "\n",
    "The task is to perform optical character recognition by classifying handwritten numbers from 0 to 9. Here is a sample of our training data from the dataset called MNIST:\n",
    "\n",
    "![numbers](numbers.png)\n",
    "\n",
    "To download MNIST data (train.csv), use this link from Kaggle https://www.kaggle.com/c/digit-recognizer/data?select=train.csv\n",
    "\n",
    "The following code loads the MNIST data, and splits it into a training set, a validation set, and a test set."
   ]
  },
  {
   "cell_type": "code",
   "execution_count": 15,
   "metadata": {},
   "outputs": [],
   "source": [
    "minst_data = pd.read_csv(\"train.csv\")\n",
    "y=minst_data['label']\n",
    "X=minst_data.drop(['label'], axis=1)\n",
    "X_train,X_test,y_train,y_test = train_test_split(X,y,test_size=0.33,random_state=42)"
   ]
  },
  {
   "cell_type": "markdown",
   "metadata": {},
   "source": [
    "** Question 5 **  \n",
    "\n",
    "*Step 1: Build individual ensemble classifiers.*\n",
    "\n",
    "Train a [RandomForestClassifier](http://scikit-learn.org/stable/modules/generated/sklearn.ensemble.RandomForestClassifier.html) and a [GradientBoostingClassifier](http://scikit-learn.org/stable/modules/generated/sklearn.ensemble.GradientBoostingClassifier.html) using `X_train` and `y_train`.\n",
    "\n",
    "Use each of the model to predict the values of `X_test` and calculate the accuracy of against `y_test`.\n",
    "\n",
    "*Step 2: Combine classifiers through model stacking.*\n",
    "\n",
    "Use the classifiers from step 1 to predict againsts their own training data. Combine the two resulting sets of prediction into a new set called `X_train_pred` and train a new `RandomForestClassifier` using the new `X_train_pred`, and previous`y_train` to create a blender.\n",
    "\n",
    "Use this blender to predict `X_test` and compare the accuracy against `y_test` to the accuracy acheived with the individual classifiers in step 1.\n",
    "\n",
    "Hint 1: For xgboost, you can look at my code example in zoom session file, but you need to find the right objective and evaluation metric, look up xgboost documentation. You also need to be able to predict target values instead of probabilities here.\n",
    "\n",
    "Hint 2: To combine prediction results, which are numpy arrays, use zip() function then turn them into a list and then pandas dataframe"
   ]
  },
  {
   "cell_type": "code",
   "execution_count": 16,
   "metadata": {},
   "outputs": [
    {
     "name": "stdout",
     "output_type": "stream",
     "text": [
      "RandomForestClassifier 0.9641414141414142\n"
     ]
    }
   ],
   "source": [
    "# Training a RandomForestClassifier\n",
    "from sklearn.ensemble import RandomForestClassifier\n",
    "from sklearn.metrics import accuracy_score\n",
    "\n",
    "rf_clf = RandomForestClassifier(n_estimators=500, n_jobs=-1)\n",
    "rf_clf.fit(X_train,y_train)\n",
    "rf_pred = rf_clf.predict(X_test)\n",
    "\n",
    "print(rf_clf.__class__.__name__, accuracy_score(y_test, rf_pred))"
   ]
  },
  {
   "cell_type": "code",
   "execution_count": 17,
   "metadata": {},
   "outputs": [
    {
     "name": "stdout",
     "output_type": "stream",
     "text": [
      "GradientBoostingClassifier 0.7966089466089467\n"
     ]
    }
   ],
   "source": [
    "# Training a GradientBoostingClassifier\n",
    "from sklearn.ensemble import GradientBoostingClassifier\n",
    "from sklearn.metrics import accuracy_score\n",
    "\n",
    "gb_clf = GradientBoostingClassifier(max_depth=2, n_estimators=5, learning_rate=1.0, random_state=42)\n",
    "gb_clf.fit(X_train,y_train)\n",
    "gb_pred = gb_clf.predict(X_test)\n",
    "\n",
    "print(gb_clf.__class__.__name__, accuracy_score(y_test, gb_pred))"
   ]
  },
  {
   "cell_type": "code",
   "execution_count": 18,
   "metadata": {
    "tags": []
   },
   "outputs": [
    {
     "name": "stdout",
     "output_type": "stream",
     "text": [
      "RandomForestClassifier 0.9641414141414142\n"
     ]
    }
   ],
   "source": [
    "# Using classifiers to predict against their own training data\n",
    "rf_train_selfpred = rf_clf.predict(X_train)\n",
    "gb_train_selfpred = gb_clf.predict(X_train)\n",
    "\n",
    "# Combining the two resulting sets into a new training set\n",
    "X_train_pred = pd.DataFrame(list(zip(rf_train_selfpred, gb_train_selfpred)))\n",
    "\n",
    "# Using classifiers to predict against their own testing data\n",
    "rf_test_selfpred = rf_clf.predict(X_test)\n",
    "gb_test_selfpred = gb_clf.predict(X_test)\n",
    "\n",
    "# Combining the two resulting sets into a new testing set\n",
    "X_test_pred = pd.DataFrame(list(zip(rf_test_selfpred, gb_test_selfpred)))\n",
    "\n",
    "# Training a new RandomForestClassifier\n",
    "rf_clfblend = RandomForestClassifier(n_estimators=500, n_jobs=-1)\n",
    "rf_clfblend.fit(X_train_pred, y_train)\n",
    "rf_blend_pred = rf_clfblend.predict(X_test_pred)\n",
    "\n",
    "print(rf_clfblend.__class__.__name__, accuracy_score(y_test, rf_blend_pred))"
   ]
  },
  {
   "cell_type": "markdown",
   "metadata": {},
   "source": [
    "In step 1, the RandomForestClassifier had an accuracy of about 0.9641 or 96.41% whereas the GradientBoostingClassifier had an accuracy of about 0.7966 or 79.66%. After stacking these models to create a blended model in step 2, the resulting accuracy of the new RandomForestClassifier ranged from 96.41% to 100% when running it multiple times. Therefore, on average, the new RandomForestClassifier from step 2 is more accurate than its two component models from step 1. "
   ]
  }
 ],
 "metadata": {
  "interpreter": {
   "hash": "40d3a090f54c6569ab1632332b64b2c03c39dcf918b08424e98f38b5ae0af88f"
  },
  "kernelspec": {
   "display_name": "Python 3.8.5 ('base')",
   "language": "python",
   "name": "python3"
  },
  "language_info": {
   "codemirror_mode": {
    "name": "ipython",
    "version": 3
   },
   "file_extension": ".py",
   "mimetype": "text/x-python",
   "name": "python",
   "nbconvert_exporter": "python",
   "pygments_lexer": "ipython3",
   "version": "3.8.5"
  }
 },
 "nbformat": 4,
 "nbformat_minor": 2
}
